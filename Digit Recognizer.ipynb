{
 "cells": [
  {
   "cell_type": "code",
   "execution_count": 31,
   "metadata": {},
   "outputs": [],
   "source": [
    "# Import all necessary packages\n",
    "import numpy as np\n",
    "import pandas as pd\n",
    "\n",
    "import matplotlib.pyplot as plt\n",
    "%matplotlib inline"
   ]
  },
  {
   "cell_type": "code",
   "execution_count": 32,
   "metadata": {},
   "outputs": [
    {
     "name": "stdout",
     "output_type": "stream",
     "text": [
      "(42000, 785)\n"
     ]
    },
    {
     "data": {
      "text/html": [
       "<div>\n",
       "<style scoped>\n",
       "    .dataframe tbody tr th:only-of-type {\n",
       "        vertical-align: middle;\n",
       "    }\n",
       "\n",
       "    .dataframe tbody tr th {\n",
       "        vertical-align: top;\n",
       "    }\n",
       "\n",
       "    .dataframe thead th {\n",
       "        text-align: right;\n",
       "    }\n",
       "</style>\n",
       "<table border=\"1\" class=\"dataframe\">\n",
       "  <thead>\n",
       "    <tr style=\"text-align: right;\">\n",
       "      <th></th>\n",
       "      <th>label</th>\n",
       "      <th>pixel0</th>\n",
       "      <th>pixel1</th>\n",
       "      <th>pixel2</th>\n",
       "      <th>pixel3</th>\n",
       "      <th>pixel4</th>\n",
       "      <th>pixel5</th>\n",
       "      <th>pixel6</th>\n",
       "      <th>pixel7</th>\n",
       "      <th>pixel8</th>\n",
       "      <th>...</th>\n",
       "      <th>pixel774</th>\n",
       "      <th>pixel775</th>\n",
       "      <th>pixel776</th>\n",
       "      <th>pixel777</th>\n",
       "      <th>pixel778</th>\n",
       "      <th>pixel779</th>\n",
       "      <th>pixel780</th>\n",
       "      <th>pixel781</th>\n",
       "      <th>pixel782</th>\n",
       "      <th>pixel783</th>\n",
       "    </tr>\n",
       "  </thead>\n",
       "  <tbody>\n",
       "    <tr>\n",
       "      <th>0</th>\n",
       "      <td>1</td>\n",
       "      <td>0</td>\n",
       "      <td>0</td>\n",
       "      <td>0</td>\n",
       "      <td>0</td>\n",
       "      <td>0</td>\n",
       "      <td>0</td>\n",
       "      <td>0</td>\n",
       "      <td>0</td>\n",
       "      <td>0</td>\n",
       "      <td>...</td>\n",
       "      <td>0</td>\n",
       "      <td>0</td>\n",
       "      <td>0</td>\n",
       "      <td>0</td>\n",
       "      <td>0</td>\n",
       "      <td>0</td>\n",
       "      <td>0</td>\n",
       "      <td>0</td>\n",
       "      <td>0</td>\n",
       "      <td>0</td>\n",
       "    </tr>\n",
       "    <tr>\n",
       "      <th>1</th>\n",
       "      <td>0</td>\n",
       "      <td>0</td>\n",
       "      <td>0</td>\n",
       "      <td>0</td>\n",
       "      <td>0</td>\n",
       "      <td>0</td>\n",
       "      <td>0</td>\n",
       "      <td>0</td>\n",
       "      <td>0</td>\n",
       "      <td>0</td>\n",
       "      <td>...</td>\n",
       "      <td>0</td>\n",
       "      <td>0</td>\n",
       "      <td>0</td>\n",
       "      <td>0</td>\n",
       "      <td>0</td>\n",
       "      <td>0</td>\n",
       "      <td>0</td>\n",
       "      <td>0</td>\n",
       "      <td>0</td>\n",
       "      <td>0</td>\n",
       "    </tr>\n",
       "    <tr>\n",
       "      <th>2</th>\n",
       "      <td>1</td>\n",
       "      <td>0</td>\n",
       "      <td>0</td>\n",
       "      <td>0</td>\n",
       "      <td>0</td>\n",
       "      <td>0</td>\n",
       "      <td>0</td>\n",
       "      <td>0</td>\n",
       "      <td>0</td>\n",
       "      <td>0</td>\n",
       "      <td>...</td>\n",
       "      <td>0</td>\n",
       "      <td>0</td>\n",
       "      <td>0</td>\n",
       "      <td>0</td>\n",
       "      <td>0</td>\n",
       "      <td>0</td>\n",
       "      <td>0</td>\n",
       "      <td>0</td>\n",
       "      <td>0</td>\n",
       "      <td>0</td>\n",
       "    </tr>\n",
       "    <tr>\n",
       "      <th>3</th>\n",
       "      <td>4</td>\n",
       "      <td>0</td>\n",
       "      <td>0</td>\n",
       "      <td>0</td>\n",
       "      <td>0</td>\n",
       "      <td>0</td>\n",
       "      <td>0</td>\n",
       "      <td>0</td>\n",
       "      <td>0</td>\n",
       "      <td>0</td>\n",
       "      <td>...</td>\n",
       "      <td>0</td>\n",
       "      <td>0</td>\n",
       "      <td>0</td>\n",
       "      <td>0</td>\n",
       "      <td>0</td>\n",
       "      <td>0</td>\n",
       "      <td>0</td>\n",
       "      <td>0</td>\n",
       "      <td>0</td>\n",
       "      <td>0</td>\n",
       "    </tr>\n",
       "    <tr>\n",
       "      <th>4</th>\n",
       "      <td>0</td>\n",
       "      <td>0</td>\n",
       "      <td>0</td>\n",
       "      <td>0</td>\n",
       "      <td>0</td>\n",
       "      <td>0</td>\n",
       "      <td>0</td>\n",
       "      <td>0</td>\n",
       "      <td>0</td>\n",
       "      <td>0</td>\n",
       "      <td>...</td>\n",
       "      <td>0</td>\n",
       "      <td>0</td>\n",
       "      <td>0</td>\n",
       "      <td>0</td>\n",
       "      <td>0</td>\n",
       "      <td>0</td>\n",
       "      <td>0</td>\n",
       "      <td>0</td>\n",
       "      <td>0</td>\n",
       "      <td>0</td>\n",
       "    </tr>\n",
       "  </tbody>\n",
       "</table>\n",
       "<p>5 rows × 785 columns</p>\n",
       "</div>"
      ],
      "text/plain": [
       "   label  pixel0  pixel1  pixel2  pixel3  pixel4  pixel5  pixel6  pixel7  \\\n",
       "0      1       0       0       0       0       0       0       0       0   \n",
       "1      0       0       0       0       0       0       0       0       0   \n",
       "2      1       0       0       0       0       0       0       0       0   \n",
       "3      4       0       0       0       0       0       0       0       0   \n",
       "4      0       0       0       0       0       0       0       0       0   \n",
       "\n",
       "   pixel8  ...  pixel774  pixel775  pixel776  pixel777  pixel778  pixel779  \\\n",
       "0       0  ...         0         0         0         0         0         0   \n",
       "1       0  ...         0         0         0         0         0         0   \n",
       "2       0  ...         0         0         0         0         0         0   \n",
       "3       0  ...         0         0         0         0         0         0   \n",
       "4       0  ...         0         0         0         0         0         0   \n",
       "\n",
       "   pixel780  pixel781  pixel782  pixel783  \n",
       "0         0         0         0         0  \n",
       "1         0         0         0         0  \n",
       "2         0         0         0         0  \n",
       "3         0         0         0         0  \n",
       "4         0         0         0         0  \n",
       "\n",
       "[5 rows x 785 columns]"
      ]
     },
     "execution_count": 32,
     "metadata": {},
     "output_type": "execute_result"
    }
   ],
   "source": [
    "# Read input train data\n",
    "\n",
    "train = pd.read_csv(\"input/train.csv\")\n",
    "print(train.shape)\n",
    "train.head()"
   ]
  },
  {
   "cell_type": "code",
   "execution_count": 33,
   "metadata": {},
   "outputs": [
    {
     "name": "stdout",
     "output_type": "stream",
     "text": [
      "(28000, 784)\n"
     ]
    },
    {
     "data": {
      "text/html": [
       "<div>\n",
       "<style scoped>\n",
       "    .dataframe tbody tr th:only-of-type {\n",
       "        vertical-align: middle;\n",
       "    }\n",
       "\n",
       "    .dataframe tbody tr th {\n",
       "        vertical-align: top;\n",
       "    }\n",
       "\n",
       "    .dataframe thead th {\n",
       "        text-align: right;\n",
       "    }\n",
       "</style>\n",
       "<table border=\"1\" class=\"dataframe\">\n",
       "  <thead>\n",
       "    <tr style=\"text-align: right;\">\n",
       "      <th></th>\n",
       "      <th>pixel0</th>\n",
       "      <th>pixel1</th>\n",
       "      <th>pixel2</th>\n",
       "      <th>pixel3</th>\n",
       "      <th>pixel4</th>\n",
       "      <th>pixel5</th>\n",
       "      <th>pixel6</th>\n",
       "      <th>pixel7</th>\n",
       "      <th>pixel8</th>\n",
       "      <th>pixel9</th>\n",
       "      <th>...</th>\n",
       "      <th>pixel774</th>\n",
       "      <th>pixel775</th>\n",
       "      <th>pixel776</th>\n",
       "      <th>pixel777</th>\n",
       "      <th>pixel778</th>\n",
       "      <th>pixel779</th>\n",
       "      <th>pixel780</th>\n",
       "      <th>pixel781</th>\n",
       "      <th>pixel782</th>\n",
       "      <th>pixel783</th>\n",
       "    </tr>\n",
       "  </thead>\n",
       "  <tbody>\n",
       "    <tr>\n",
       "      <th>0</th>\n",
       "      <td>0</td>\n",
       "      <td>0</td>\n",
       "      <td>0</td>\n",
       "      <td>0</td>\n",
       "      <td>0</td>\n",
       "      <td>0</td>\n",
       "      <td>0</td>\n",
       "      <td>0</td>\n",
       "      <td>0</td>\n",
       "      <td>0</td>\n",
       "      <td>...</td>\n",
       "      <td>0</td>\n",
       "      <td>0</td>\n",
       "      <td>0</td>\n",
       "      <td>0</td>\n",
       "      <td>0</td>\n",
       "      <td>0</td>\n",
       "      <td>0</td>\n",
       "      <td>0</td>\n",
       "      <td>0</td>\n",
       "      <td>0</td>\n",
       "    </tr>\n",
       "    <tr>\n",
       "      <th>1</th>\n",
       "      <td>0</td>\n",
       "      <td>0</td>\n",
       "      <td>0</td>\n",
       "      <td>0</td>\n",
       "      <td>0</td>\n",
       "      <td>0</td>\n",
       "      <td>0</td>\n",
       "      <td>0</td>\n",
       "      <td>0</td>\n",
       "      <td>0</td>\n",
       "      <td>...</td>\n",
       "      <td>0</td>\n",
       "      <td>0</td>\n",
       "      <td>0</td>\n",
       "      <td>0</td>\n",
       "      <td>0</td>\n",
       "      <td>0</td>\n",
       "      <td>0</td>\n",
       "      <td>0</td>\n",
       "      <td>0</td>\n",
       "      <td>0</td>\n",
       "    </tr>\n",
       "    <tr>\n",
       "      <th>2</th>\n",
       "      <td>0</td>\n",
       "      <td>0</td>\n",
       "      <td>0</td>\n",
       "      <td>0</td>\n",
       "      <td>0</td>\n",
       "      <td>0</td>\n",
       "      <td>0</td>\n",
       "      <td>0</td>\n",
       "      <td>0</td>\n",
       "      <td>0</td>\n",
       "      <td>...</td>\n",
       "      <td>0</td>\n",
       "      <td>0</td>\n",
       "      <td>0</td>\n",
       "      <td>0</td>\n",
       "      <td>0</td>\n",
       "      <td>0</td>\n",
       "      <td>0</td>\n",
       "      <td>0</td>\n",
       "      <td>0</td>\n",
       "      <td>0</td>\n",
       "    </tr>\n",
       "    <tr>\n",
       "      <th>3</th>\n",
       "      <td>0</td>\n",
       "      <td>0</td>\n",
       "      <td>0</td>\n",
       "      <td>0</td>\n",
       "      <td>0</td>\n",
       "      <td>0</td>\n",
       "      <td>0</td>\n",
       "      <td>0</td>\n",
       "      <td>0</td>\n",
       "      <td>0</td>\n",
       "      <td>...</td>\n",
       "      <td>0</td>\n",
       "      <td>0</td>\n",
       "      <td>0</td>\n",
       "      <td>0</td>\n",
       "      <td>0</td>\n",
       "      <td>0</td>\n",
       "      <td>0</td>\n",
       "      <td>0</td>\n",
       "      <td>0</td>\n",
       "      <td>0</td>\n",
       "    </tr>\n",
       "    <tr>\n",
       "      <th>4</th>\n",
       "      <td>0</td>\n",
       "      <td>0</td>\n",
       "      <td>0</td>\n",
       "      <td>0</td>\n",
       "      <td>0</td>\n",
       "      <td>0</td>\n",
       "      <td>0</td>\n",
       "      <td>0</td>\n",
       "      <td>0</td>\n",
       "      <td>0</td>\n",
       "      <td>...</td>\n",
       "      <td>0</td>\n",
       "      <td>0</td>\n",
       "      <td>0</td>\n",
       "      <td>0</td>\n",
       "      <td>0</td>\n",
       "      <td>0</td>\n",
       "      <td>0</td>\n",
       "      <td>0</td>\n",
       "      <td>0</td>\n",
       "      <td>0</td>\n",
       "    </tr>\n",
       "  </tbody>\n",
       "</table>\n",
       "<p>5 rows × 784 columns</p>\n",
       "</div>"
      ],
      "text/plain": [
       "   pixel0  pixel1  pixel2  pixel3  pixel4  pixel5  pixel6  pixel7  pixel8  \\\n",
       "0       0       0       0       0       0       0       0       0       0   \n",
       "1       0       0       0       0       0       0       0       0       0   \n",
       "2       0       0       0       0       0       0       0       0       0   \n",
       "3       0       0       0       0       0       0       0       0       0   \n",
       "4       0       0       0       0       0       0       0       0       0   \n",
       "\n",
       "   pixel9  ...  pixel774  pixel775  pixel776  pixel777  pixel778  pixel779  \\\n",
       "0       0  ...         0         0         0         0         0         0   \n",
       "1       0  ...         0         0         0         0         0         0   \n",
       "2       0  ...         0         0         0         0         0         0   \n",
       "3       0  ...         0         0         0         0         0         0   \n",
       "4       0  ...         0         0         0         0         0         0   \n",
       "\n",
       "   pixel780  pixel781  pixel782  pixel783  \n",
       "0         0         0         0         0  \n",
       "1         0         0         0         0  \n",
       "2         0         0         0         0  \n",
       "3         0         0         0         0  \n",
       "4         0         0         0         0  \n",
       "\n",
       "[5 rows x 784 columns]"
      ]
     },
     "execution_count": 33,
     "metadata": {},
     "output_type": "execute_result"
    }
   ],
   "source": [
    "# Read input test data\n",
    "\n",
    "test = pd.read_csv(\"input/test.csv\")\n",
    "print(test.shape)\n",
    "test.head()"
   ]
  },
  {
   "cell_type": "code",
   "execution_count": 34,
   "metadata": {},
   "outputs": [],
   "source": [
    "# Split train data and change types\n",
    "\n",
    "X_train = (train.iloc[:, 1:].values).astype('float32')\n",
    "y_train = train.iloc[:, 0].values.astype('int32')\n",
    "X_test = test.values.astype('float32')"
   ]
  },
  {
   "cell_type": "code",
   "execution_count": 35,
   "metadata": {},
   "outputs": [
    {
     "data": {
      "text/plain": [
       "array([[0., 0., 0., ..., 0., 0., 0.],\n",
       "       [0., 0., 0., ..., 0., 0., 0.],\n",
       "       [0., 0., 0., ..., 0., 0., 0.],\n",
       "       ...,\n",
       "       [0., 0., 0., ..., 0., 0., 0.],\n",
       "       [0., 0., 0., ..., 0., 0., 0.],\n",
       "       [0., 0., 0., ..., 0., 0., 0.]], dtype=float32)"
      ]
     },
     "execution_count": 35,
     "metadata": {},
     "output_type": "execute_result"
    }
   ],
   "source": [
    "X_train"
   ]
  },
  {
   "cell_type": "code",
   "execution_count": 36,
   "metadata": {},
   "outputs": [
    {
     "data": {
      "text/plain": [
       "array([1, 0, 1, ..., 7, 6, 9], dtype=int32)"
      ]
     },
     "execution_count": 36,
     "metadata": {},
     "output_type": "execute_result"
    }
   ],
   "source": [
    "y_train"
   ]
  },
  {
   "cell_type": "code",
   "execution_count": 37,
   "metadata": {},
   "outputs": [
    {
     "data": {
      "image/png": "[encoded data removed]",
      "text/plain": [
       "<Figure size 432x288 with 9 Axes>"
      ]
     },
     "metadata": {
      "needs_background": "light"
     },
     "output_type": "display_data"
    }
   ],
   "source": [
    "X_train = X_train.reshape(X_train.shape[0], 28, 28)\n",
    "\n",
    "for i in range(0, 9):\n",
    "    plt.subplot(330 + (i + 1))\n",
    "    plt.imshow(X_train[i], cmap=plt.get_cmap('gray'))\n",
    "    plt.title(y_train[i]);"
   ]
  },
  {
   "cell_type": "code",
   "execution_count": 38,
   "metadata": {},
   "outputs": [
    {
     "data": {
      "text/plain": [
       "(42000, 28, 28, 1)"
      ]
     },
     "execution_count": 38,
     "metadata": {},
     "output_type": "execute_result"
    }
   ],
   "source": [
    "# Reshape train set\n",
    "\n",
    "X_train = X_train.reshape(X_train.shape[0], 28, 28, 1)\n",
    "X_train.shape"
   ]
  },
  {
   "cell_type": "code",
   "execution_count": 39,
   "metadata": {},
   "outputs": [
    {
     "data": {
      "text/plain": [
       "(28000, 28, 28, 1)"
      ]
     },
     "execution_count": 39,
     "metadata": {},
     "output_type": "execute_result"
    }
   ],
   "source": [
    "# Reshape test set\n",
    "\n",
    "X_test = X_test.reshape(X_test.shape[0], 28, 28, 1)\n",
    "X_test.shape"
   ]
  },
  {
   "cell_type": "code",
   "execution_count": 40,
   "metadata": {},
   "outputs": [],
   "source": [
    "# Standartize all values. It will be used as Lambda layer.\n",
    "\n",
    "mean_px = X_train.mean().astype(np.float32)\n",
    "std_px = X_train.std().astype(np.float32)\n",
    "\n",
    "def standardize(x): \n",
    "    return (x-mean_px) / std_px"
   ]
  },
  {
   "cell_type": "code",
   "execution_count": 41,
   "metadata": {},
   "outputs": [
    {
     "data": {
      "text/plain": [
       "10"
      ]
     },
     "execution_count": 41,
     "metadata": {},
     "output_type": "execute_result"
    }
   ],
   "source": [
    "# One hot encoding\n",
    "\n",
    "from keras.utils.np_utils import to_categorical\n",
    "y_train = to_categorical(y_train)\n",
    "num_classes = y_train.shape[1]\n",
    "num_classes"
   ]
  },
  {
   "cell_type": "code",
   "execution_count": 42,
   "metadata": {},
   "outputs": [],
   "source": [
    "# Fix random seed for reproducibility\n",
    "\n",
    "seed = 42\n",
    "np.random.seed(seed)"
   ]
  },
  {
   "cell_type": "code",
   "execution_count": 43,
   "metadata": {},
   "outputs": [],
   "source": [
    "from keras.models import  Sequential\n",
    "from keras.layers.core import  Lambda, Dense, Flatten, Dropout\n",
    "from keras.callbacks import EarlyStopping\n",
    "from keras.layers import BatchNormalization, Convolution2D, MaxPooling2D"
   ]
  },
  {
   "cell_type": "code",
   "execution_count": 44,
   "metadata": {},
   "outputs": [
    {
     "name": "stdout",
     "output_type": "stream",
     "text": [
      "Input shape  (None, 28, 28, 1)\n",
      "Output shape  (None, 10)\n"
     ]
    }
   ],
   "source": [
    "model = Sequential()\n",
    "model.add(Lambda(standardize, input_shape = (28, 28, 1)))\n",
    "model.add(Flatten())\n",
    "model.add(Dense(10, activation = 'softmax'))\n",
    "print(\"Input shape \", model.input_shape)\n",
    "print(\"Output shape \", model.output_shape)"
   ]
  },
  {
   "cell_type": "code",
   "execution_count": 45,
   "metadata": {},
   "outputs": [],
   "source": [
    "from keras.optimizers import RMSprop\n",
    "model.compile(optimizer = RMSprop(lr = 0.001), loss = 'categorical_crossentropy', metrics=['accuracy'])"
   ]
  },
  {
   "cell_type": "code",
   "execution_count": 46,
   "metadata": {},
   "outputs": [],
   "source": [
    "from keras.preprocessing import image\n",
    "gen = image.ImageDataGenerator()"
   ]
  },
  {
   "cell_type": "code",
   "execution_count": 47,
   "metadata": {},
   "outputs": [],
   "source": [
    "from sklearn.model_selection import train_test_split\n",
    "X = X_train\n",
    "y = y_train\n",
    "X_train, X_val, y_train, y_val = train_test_split(X_train, y_train, test_size = 0.10, random_state = seed)\n",
    "batches = gen.flow(X_train, y_train, batch_size = 64)\n",
    "val_batches = gen.flow(X_val, y_val, batch_size = 64)"
   ]
  },
  {
   "cell_type": "code",
   "execution_count": 53,
   "metadata": {},
   "outputs": [
    {
     "name": "stdout",
     "output_type": "stream",
     "text": [
      "Epoch 1/100\n",
      "554/590 [===========================>..] - ETA: 0s - loss: 0.2538 - accuracy: 0.9296WARNING:tensorflow:Your input ran out of data; interrupting training. Make sure that your dataset or generator can generate at least `steps_per_epoch * epochs` batches (in this case, 4200 batches). You may need to use the repeat() function when building your dataset.\n",
      "590/590 [==============================] - 1s 1ms/step - loss: 0.2522 - accuracy: 0.9298 - val_loss: 0.3012 - val_accuracy: 0.9138\n",
      "Epoch 2/100\n",
      "590/590 [==============================] - 1s 993us/step - loss: 0.2501 - accuracy: 0.9322\n",
      "Epoch 3/100\n",
      "590/590 [==============================] - 1s 985us/step - loss: 0.2498 - accuracy: 0.9311\n",
      "Epoch 4/100\n",
      "590/590 [==============================] - 1s 979us/step - loss: 0.2469 - accuracy: 0.9316\n",
      "Epoch 5/100\n",
      "590/590 [==============================] - 1s 987us/step - loss: 0.2472 - accuracy: 0.9322\n",
      "Epoch 6/100\n",
      "590/590 [==============================] - 1s 989us/step - loss: 0.2452 - accuracy: 0.9336\n",
      "Epoch 7/100\n",
      "590/590 [==============================] - 1s 976us/step - loss: 0.2435 - accuracy: 0.9333\n",
      "Epoch 8/100\n",
      "590/590 [==============================] - 1s 1ms/step - loss: 0.2423 - accuracy: 0.9326\n",
      "Epoch 9/100\n",
      "590/590 [==============================] - 1s 984us/step - loss: 0.2422 - accuracy: 0.9338\n",
      "Epoch 10/100\n",
      "590/590 [==============================] - 1s 997us/step - loss: 0.2408 - accuracy: 0.9346\n",
      "Epoch 11/100\n",
      "590/590 [==============================] - 1s 985us/step - loss: 0.2394 - accuracy: 0.9355\n",
      "Epoch 12/100\n",
      "590/590 [==============================] - 1s 993us/step - loss: 0.2384 - accuracy: 0.9336\n",
      "Epoch 13/100\n",
      "590/590 [==============================] - 1s 989us/step - loss: 0.2377 - accuracy: 0.9352\n",
      "Epoch 14/100\n",
      "590/590 [==============================] - 1s 997us/step - loss: 0.2372 - accuracy: 0.9349\n",
      "Epoch 15/100\n",
      "590/590 [==============================] - 1s 993us/step - loss: 0.2362 - accuracy: 0.9356\n",
      "Epoch 16/100\n",
      "590/590 [==============================] - 1s 988us/step - loss: 0.2364 - accuracy: 0.9355\n",
      "Epoch 17/100\n",
      "590/590 [==============================] - 1s 991us/step - loss: 0.2361 - accuracy: 0.9351\n",
      "Epoch 18/100\n",
      "590/590 [==============================] - 1s 993us/step - loss: 0.2350 - accuracy: 0.9360\n",
      "Epoch 19/100\n",
      "590/590 [==============================] - 1s 990us/step - loss: 0.2342 - accuracy: 0.9366\n",
      "Epoch 20/100\n",
      "590/590 [==============================] - 1s 988us/step - loss: 0.2332 - accuracy: 0.9362\n",
      "Epoch 21/100\n",
      "590/590 [==============================] - 1s 1ms/step - loss: 0.2333 - accuracy: 0.9370\n",
      "Epoch 22/100\n",
      "590/590 [==============================] - 1s 997us/step - loss: 0.2325 - accuracy: 0.9359\n",
      "Epoch 23/100\n",
      "590/590 [==============================] - 1s 995us/step - loss: 0.2313 - accuracy: 0.9358\n",
      "Epoch 24/100\n",
      "590/590 [==============================] - 1s 1ms/step - loss: 0.2305 - accuracy: 0.9371\n",
      "Epoch 25/100\n",
      "590/590 [==============================] - 1s 1ms/step - loss: 0.2307 - accuracy: 0.9371\n",
      "Epoch 26/100\n",
      "590/590 [==============================] - 1s 980us/step - loss: 0.2309 - accuracy: 0.9371\n",
      "Epoch 27/100\n",
      "590/590 [==============================] - 1s 993us/step - loss: 0.2302 - accuracy: 0.9370\n",
      "Epoch 28/100\n",
      "590/590 [==============================] - 1s 991us/step - loss: 0.2295 - accuracy: 0.9374\n",
      "Epoch 29/100\n",
      "590/590 [==============================] - 1s 988us/step - loss: 0.2292 - accuracy: 0.9375\n",
      "Epoch 30/100\n",
      "590/590 [==============================] - 1s 990us/step - loss: 0.2291 - accuracy: 0.9366\n",
      "Epoch 31/100\n",
      "590/590 [==============================] - 1s 1ms/step - loss: 0.2291 - accuracy: 0.9380\n",
      "Epoch 32/100\n",
      "590/590 [==============================] - 1s 998us/step - loss: 0.2291 - accuracy: 0.9379\n",
      "Epoch 33/100\n",
      "590/590 [==============================] - 1s 1ms/step - loss: 0.2271 - accuracy: 0.9397\n",
      "Epoch 34/100\n",
      "590/590 [==============================] - 1s 994us/step - loss: 0.2276 - accuracy: 0.9389\n",
      "Epoch 35/100\n",
      "590/590 [==============================] - 1s 1ms/step - loss: 0.2281 - accuracy: 0.9380\n",
      "Epoch 36/100\n",
      "590/590 [==============================] - 1s 994us/step - loss: 0.2270 - accuracy: 0.9382\n",
      "Epoch 37/100\n",
      "590/590 [==============================] - 1s 984us/step - loss: 0.2259 - accuracy: 0.9376\n",
      "Epoch 38/100\n",
      "590/590 [==============================] - 1s 990us/step - loss: 0.2266 - accuracy: 0.9387\n",
      "Epoch 39/100\n",
      "590/590 [==============================] - 1s 989us/step - loss: 0.2254 - accuracy: 0.9386\n",
      "Epoch 40/100\n",
      "590/590 [==============================] - 1s 995us/step - loss: 0.2264 - accuracy: 0.9372\n",
      "Epoch 41/100\n",
      "590/590 [==============================] - 1s 990us/step - loss: 0.2247 - accuracy: 0.9385\n",
      "Epoch 42/100\n",
      "590/590 [==============================] - 1s 986us/step - loss: 0.2249 - accuracy: 0.9389\n",
      "Epoch 43/100\n",
      "590/590 [==============================] - 1s 984us/step - loss: 0.2249 - accuracy: 0.9392\n",
      "Epoch 44/100\n",
      "590/590 [==============================] - 1s 997us/step - loss: 0.2248 - accuracy: 0.9383\n",
      "Epoch 45/100\n",
      "590/590 [==============================] - 1s 994us/step - loss: 0.2246 - accuracy: 0.9390\n",
      "Epoch 46/100\n",
      "590/590 [==============================] - 1s 991us/step - loss: 0.2235 - accuracy: 0.9400\n",
      "Epoch 47/100\n",
      "590/590 [==============================] - 1s 987us/step - loss: 0.2232 - accuracy: 0.9399\n",
      "Epoch 48/100\n",
      "590/590 [==============================] - 1s 991us/step - loss: 0.2230 - accuracy: 0.9397\n",
      "Epoch 49/100\n",
      "590/590 [==============================] - 1s 996us/step - loss: 0.2234 - accuracy: 0.9388\n",
      "Epoch 50/100\n",
      "590/590 [==============================] - 1s 1ms/step - loss: 0.2236 - accuracy: 0.9402\n",
      "Epoch 51/100\n",
      "590/590 [==============================] - 1s 1ms/step - loss: 0.2228 - accuracy: 0.9389\n",
      "Epoch 52/100\n",
      "590/590 [==============================] - 1s 1ms/step - loss: 0.2224 - accuracy: 0.9395\n",
      "Epoch 53/100\n",
      "590/590 [==============================] - 1s 977us/step - loss: 0.2225 - accuracy: 0.9390\n",
      "Epoch 54/100\n",
      "590/590 [==============================] - 1s 982us/step - loss: 0.2221 - accuracy: 0.9399\n",
      "Epoch 55/100\n",
      "590/590 [==============================] - 1s 986us/step - loss: 0.2212 - accuracy: 0.9390\n",
      "Epoch 56/100\n",
      "590/590 [==============================] - 1s 981us/step - loss: 0.2206 - accuracy: 0.9393\n",
      "Epoch 57/100\n",
      "590/590 [==============================] - 1s 1ms/step - loss: 0.2220 - accuracy: 0.9394\n",
      "Epoch 58/100\n",
      "590/590 [==============================] - 1s 1ms/step - loss: 0.2203 - accuracy: 0.9410\n",
      "Epoch 59/100\n",
      "590/590 [==============================] - 1s 1ms/step - loss: 0.2213 - accuracy: 0.9396\n",
      "Epoch 60/100\n",
      "590/590 [==============================] - 1s 1ms/step - loss: 0.2208 - accuracy: 0.9397\n",
      "Epoch 61/100\n",
      "590/590 [==============================] - 1s 1ms/step - loss: 0.2202 - accuracy: 0.9408\n",
      "Epoch 62/100\n",
      "590/590 [==============================] - 1s 1ms/step - loss: 0.2205 - accuracy: 0.9403\n",
      "Epoch 63/100\n",
      "590/590 [==============================] - 1s 982us/step - loss: 0.2208 - accuracy: 0.9405\n",
      "Epoch 64/100\n",
      "590/590 [==============================] - 1s 1ms/step - loss: 0.2196 - accuracy: 0.9393\n",
      "Epoch 65/100\n",
      "590/590 [==============================] - 1s 1ms/step - loss: 0.2197 - accuracy: 0.9401\n",
      "Epoch 66/100\n",
      "590/590 [==============================] - 1s 979us/step - loss: 0.2201 - accuracy: 0.9399\n",
      "Epoch 67/100\n",
      "590/590 [==============================] - 1s 1ms/step - loss: 0.2202 - accuracy: 0.9394\n",
      "Epoch 68/100\n",
      "590/590 [==============================] - 1s 984us/step - loss: 0.2191 - accuracy: 0.9402\n",
      "Epoch 69/100\n",
      "590/590 [==============================] - 1s 988us/step - loss: 0.2198 - accuracy: 0.9399\n",
      "Epoch 70/100\n",
      "590/590 [==============================] - 1s 991us/step - loss: 0.2190 - accuracy: 0.9409\n",
      "Epoch 71/100\n",
      "590/590 [==============================] - 1s 1ms/step - loss: 0.2183 - accuracy: 0.9410\n",
      "Epoch 72/100\n",
      "590/590 [==============================] - 1s 1ms/step - loss: 0.2188 - accuracy: 0.9404\n",
      "Epoch 73/100\n",
      "590/590 [==============================] - 1s 1ms/step - loss: 0.2185 - accuracy: 0.9410\n",
      "Epoch 74/100\n",
      "590/590 [==============================] - 1s 1ms/step - loss: 0.2180 - accuracy: 0.9402\n",
      "Epoch 75/100\n",
      "590/590 [==============================] - 1s 1ms/step - loss: 0.2177 - accuracy: 0.9398\n",
      "Epoch 76/100\n"
     ]
    },
    {
     "name": "stdout",
     "output_type": "stream",
     "text": [
      "590/590 [==============================] - 1s 976us/step - loss: 0.2184 - accuracy: 0.9413\n",
      "Epoch 77/100\n",
      "590/590 [==============================] - 1s 962us/step - loss: 0.2179 - accuracy: 0.9408\n",
      "Epoch 78/100\n",
      "590/590 [==============================] - 1s 973us/step - loss: 0.2167 - accuracy: 0.9411\n",
      "Epoch 79/100\n",
      "590/590 [==============================] - 1s 976us/step - loss: 0.2172 - accuracy: 0.9406\n",
      "Epoch 80/100\n",
      "590/590 [==============================] - 1s 1ms/step - loss: 0.2179 - accuracy: 0.9407\n",
      "Epoch 81/100\n",
      "590/590 [==============================] - 1s 976us/step - loss: 0.2183 - accuracy: 0.9405\n",
      "Epoch 82/100\n",
      "590/590 [==============================] - 1s 974us/step - loss: 0.2172 - accuracy: 0.9415\n",
      "Epoch 83/100\n",
      "590/590 [==============================] - 1s 969us/step - loss: 0.2173 - accuracy: 0.9413\n",
      "Epoch 84/100\n",
      "590/590 [==============================] - 1s 981us/step - loss: 0.2174 - accuracy: 0.9410\n",
      "Epoch 85/100\n",
      "590/590 [==============================] - 1s 972us/step - loss: 0.2170 - accuracy: 0.9408\n",
      "Epoch 86/100\n",
      "590/590 [==============================] - 1s 967us/step - loss: 0.2170 - accuracy: 0.9408\n",
      "Epoch 87/100\n",
      "590/590 [==============================] - 1s 964us/step - loss: 0.2159 - accuracy: 0.9408\n",
      "Epoch 88/100\n",
      "590/590 [==============================] - 1s 984us/step - loss: 0.2169 - accuracy: 0.9418\n",
      "Epoch 89/100\n",
      "590/590 [==============================] - 1s 975us/step - loss: 0.2161 - accuracy: 0.9413\n",
      "Epoch 90/100\n",
      "590/590 [==============================] - 1s 974us/step - loss: 0.2158 - accuracy: 0.9416\n",
      "Epoch 91/100\n",
      "590/590 [==============================] - 1s 977us/step - loss: 0.2154 - accuracy: 0.9416\n",
      "Epoch 92/100\n",
      "590/590 [==============================] - 1s 967us/step - loss: 0.2159 - accuracy: 0.9415\n",
      "Epoch 93/100\n",
      "590/590 [==============================] - 1s 975us/step - loss: 0.2162 - accuracy: 0.9404\n",
      "Epoch 94/100\n",
      "590/590 [==============================] - 1s 983us/step - loss: 0.2151 - accuracy: 0.9411\n",
      "Epoch 95/100\n",
      "590/590 [==============================] - 1s 973us/step - loss: 0.2160 - accuracy: 0.9409\n",
      "Epoch 96/100\n",
      "590/590 [==============================] - 1s 958us/step - loss: 0.2161 - accuracy: 0.9408\n",
      "Epoch 97/100\n",
      "590/590 [==============================] - 1s 963us/step - loss: 0.2155 - accuracy: 0.9416\n",
      "Epoch 98/100\n",
      "590/590 [==============================] - 1s 1ms/step - loss: 0.2148 - accuracy: 0.9422\n",
      "Epoch 99/100\n",
      "590/590 [==============================] - 1s 1ms/step - loss: 0.2147 - accuracy: 0.9419\n",
      "Epoch 100/100\n",
      "590/590 [==============================] - 1s 1ms/step - loss: 0.2151 - accuracy: 0.9412\n"
     ]
    }
   ],
   "source": [
    "history = model.fit_generator(generator = batches,\n",
    "                              steps_per_epoch = np.floor(batches.n / 64),\n",
    "                              epochs = 20,\n",
    "                              validation_data = val_batches,\n",
    "                              validation_steps = val_batches.n)"
   ]
  },
  {
   "cell_type": "code",
   "execution_count": 54,
   "metadata": {},
   "outputs": [
    {
     "data": {
      "text/plain": [
       "dict_keys(['loss', 'accuracy', 'val_loss', 'val_accuracy'])"
      ]
     },
     "execution_count": 54,
     "metadata": {},
     "output_type": "execute_result"
    }
   ],
   "source": [
    "history_dict = history.history\n",
    "history_dict.keys()"
   ]
  },
  {
   "cell_type": "code",
   "execution_count": 62,
   "metadata": {},
   "outputs": [
    {
     "data": {
      "image/png": "[encoded data removed]",
      "text/plain": [
       "<Figure size 432x288 with 1 Axes>"
      ]
     },
     "metadata": {
      "needs_background": "light"
     },
     "output_type": "display_data"
    }
   ],
   "source": [
    "import matplotlib.pyplot as plt\n",
    "%matplotlib inline\n",
    "loss_values = history_dict['loss']\n",
    "epochs = range(1, len(loss_values) + 1)\n",
    "\n",
    "# \"bo\" is for \"blue dot\"\n",
    "plt.plot(epochs, loss_values, 'bo')\n",
    "plt.xlabel('Epochs')\n",
    "plt.ylabel('Loss')\n",
    "\n",
    "plt.show()"
   ]
  },
  {
   "cell_type": "code",
   "execution_count": null,
   "metadata": {},
   "outputs": [],
   "source": []
  }
 ],
 "metadata": {
  "kernelspec": {
   "display_name": "Python 3",
   "language": "python",
   "name": "python3"
  },
  "language_info": {
   "codemirror_mode": {
    "name": "ipython",
    "version": 3
   },
   "file_extension": ".py",
   "mimetype": "text/x-python",
   "name": "python",
   "nbconvert_exporter": "python",
   "pygments_lexer": "ipython3",
   "version": "3.8.5"
  }
 },
 "nbformat": 4,
 "nbformat_minor": 4
}
