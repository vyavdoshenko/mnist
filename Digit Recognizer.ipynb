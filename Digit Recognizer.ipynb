{
 "cells": [
  {
   "cell_type": "code",
   "execution_count": 1,
   "metadata": {},
   "outputs": [],
   "source": [
    "# Import all necessary packages\n",
    "import numpy as np\n",
    "import pandas as pd\n",
    "\n",
    "import matplotlib.pyplot as plt\n",
    "%matplotlib inline"
   ]
  },
  {
   "cell_type": "code",
   "execution_count": 2,
   "metadata": {},
   "outputs": [
    {
     "name": "stdout",
     "output_type": "stream",
     "text": [
      "(42000, 785)\n"
     ]
    },
    {
     "data": {
      "text/html": [
       "<div>\n",
       "<style scoped>\n",
       "    .dataframe tbody tr th:only-of-type {\n",
       "        vertical-align: middle;\n",
       "    }\n",
       "\n",
       "    .dataframe tbody tr th {\n",
       "        vertical-align: top;\n",
       "    }\n",
       "\n",
       "    .dataframe thead th {\n",
       "        text-align: right;\n",
       "    }\n",
       "</style>\n",
       "<table border=\"1\" class=\"dataframe\">\n",
       "  <thead>\n",
       "    <tr style=\"text-align: right;\">\n",
       "      <th></th>\n",
       "      <th>label</th>\n",
       "      <th>pixel0</th>\n",
       "      <th>pixel1</th>\n",
       "      <th>pixel2</th>\n",
       "      <th>pixel3</th>\n",
       "      <th>pixel4</th>\n",
       "      <th>pixel5</th>\n",
       "      <th>pixel6</th>\n",
       "      <th>pixel7</th>\n",
       "      <th>pixel8</th>\n",
       "      <th>...</th>\n",
       "      <th>pixel774</th>\n",
       "      <th>pixel775</th>\n",
       "      <th>pixel776</th>\n",
       "      <th>pixel777</th>\n",
       "      <th>pixel778</th>\n",
       "      <th>pixel779</th>\n",
       "      <th>pixel780</th>\n",
       "      <th>pixel781</th>\n",
       "      <th>pixel782</th>\n",
       "      <th>pixel783</th>\n",
       "    </tr>\n",
       "  </thead>\n",
       "  <tbody>\n",
       "    <tr>\n",
       "      <th>0</th>\n",
       "      <td>1</td>\n",
       "      <td>0</td>\n",
       "      <td>0</td>\n",
       "      <td>0</td>\n",
       "      <td>0</td>\n",
       "      <td>0</td>\n",
       "      <td>0</td>\n",
       "      <td>0</td>\n",
       "      <td>0</td>\n",
       "      <td>0</td>\n",
       "      <td>...</td>\n",
       "      <td>0</td>\n",
       "      <td>0</td>\n",
       "      <td>0</td>\n",
       "      <td>0</td>\n",
       "      <td>0</td>\n",
       "      <td>0</td>\n",
       "      <td>0</td>\n",
       "      <td>0</td>\n",
       "      <td>0</td>\n",
       "      <td>0</td>\n",
       "    </tr>\n",
       "    <tr>\n",
       "      <th>1</th>\n",
       "      <td>0</td>\n",
       "      <td>0</td>\n",
       "      <td>0</td>\n",
       "      <td>0</td>\n",
       "      <td>0</td>\n",
       "      <td>0</td>\n",
       "      <td>0</td>\n",
       "      <td>0</td>\n",
       "      <td>0</td>\n",
       "      <td>0</td>\n",
       "      <td>...</td>\n",
       "      <td>0</td>\n",
       "      <td>0</td>\n",
       "      <td>0</td>\n",
       "      <td>0</td>\n",
       "      <td>0</td>\n",
       "      <td>0</td>\n",
       "      <td>0</td>\n",
       "      <td>0</td>\n",
       "      <td>0</td>\n",
       "      <td>0</td>\n",
       "    </tr>\n",
       "    <tr>\n",
       "      <th>2</th>\n",
       "      <td>1</td>\n",
       "      <td>0</td>\n",
       "      <td>0</td>\n",
       "      <td>0</td>\n",
       "      <td>0</td>\n",
       "      <td>0</td>\n",
       "      <td>0</td>\n",
       "      <td>0</td>\n",
       "      <td>0</td>\n",
       "      <td>0</td>\n",
       "      <td>...</td>\n",
       "      <td>0</td>\n",
       "      <td>0</td>\n",
       "      <td>0</td>\n",
       "      <td>0</td>\n",
       "      <td>0</td>\n",
       "      <td>0</td>\n",
       "      <td>0</td>\n",
       "      <td>0</td>\n",
       "      <td>0</td>\n",
       "      <td>0</td>\n",
       "    </tr>\n",
       "    <tr>\n",
       "      <th>3</th>\n",
       "      <td>4</td>\n",
       "      <td>0</td>\n",
       "      <td>0</td>\n",
       "      <td>0</td>\n",
       "      <td>0</td>\n",
       "      <td>0</td>\n",
       "      <td>0</td>\n",
       "      <td>0</td>\n",
       "      <td>0</td>\n",
       "      <td>0</td>\n",
       "      <td>...</td>\n",
       "      <td>0</td>\n",
       "      <td>0</td>\n",
       "      <td>0</td>\n",
       "      <td>0</td>\n",
       "      <td>0</td>\n",
       "      <td>0</td>\n",
       "      <td>0</td>\n",
       "      <td>0</td>\n",
       "      <td>0</td>\n",
       "      <td>0</td>\n",
       "    </tr>\n",
       "    <tr>\n",
       "      <th>4</th>\n",
       "      <td>0</td>\n",
       "      <td>0</td>\n",
       "      <td>0</td>\n",
       "      <td>0</td>\n",
       "      <td>0</td>\n",
       "      <td>0</td>\n",
       "      <td>0</td>\n",
       "      <td>0</td>\n",
       "      <td>0</td>\n",
       "      <td>0</td>\n",
       "      <td>...</td>\n",
       "      <td>0</td>\n",
       "      <td>0</td>\n",
       "      <td>0</td>\n",
       "      <td>0</td>\n",
       "      <td>0</td>\n",
       "      <td>0</td>\n",
       "      <td>0</td>\n",
       "      <td>0</td>\n",
       "      <td>0</td>\n",
       "      <td>0</td>\n",
       "    </tr>\n",
       "  </tbody>\n",
       "</table>\n",
       "<p>5 rows × 785 columns</p>\n",
       "</div>"
      ],
      "text/plain": [
       "   label  pixel0  pixel1  pixel2  pixel3  pixel4  pixel5  pixel6  pixel7  \\\n",
       "0      1       0       0       0       0       0       0       0       0   \n",
       "1      0       0       0       0       0       0       0       0       0   \n",
       "2      1       0       0       0       0       0       0       0       0   \n",
       "3      4       0       0       0       0       0       0       0       0   \n",
       "4      0       0       0       0       0       0       0       0       0   \n",
       "\n",
       "   pixel8  ...  pixel774  pixel775  pixel776  pixel777  pixel778  pixel779  \\\n",
       "0       0  ...         0         0         0         0         0         0   \n",
       "1       0  ...         0         0         0         0         0         0   \n",
       "2       0  ...         0         0         0         0         0         0   \n",
       "3       0  ...         0         0         0         0         0         0   \n",
       "4       0  ...         0         0         0         0         0         0   \n",
       "\n",
       "   pixel780  pixel781  pixel782  pixel783  \n",
       "0         0         0         0         0  \n",
       "1         0         0         0         0  \n",
       "2         0         0         0         0  \n",
       "3         0         0         0         0  \n",
       "4         0         0         0         0  \n",
       "\n",
       "[5 rows x 785 columns]"
      ]
     },
     "execution_count": 2,
     "metadata": {},
     "output_type": "execute_result"
    }
   ],
   "source": [
    "# Read input train data\n",
    "\n",
    "train = pd.read_csv(\"input/train.csv\")\n",
    "print(train.shape)\n",
    "train.head()"
   ]
  },
  {
   "cell_type": "code",
   "execution_count": 3,
   "metadata": {},
   "outputs": [
    {
     "name": "stdout",
     "output_type": "stream",
     "text": [
      "(28000, 784)\n"
     ]
    },
    {
     "data": {
      "text/html": [
       "<div>\n",
       "<style scoped>\n",
       "    .dataframe tbody tr th:only-of-type {\n",
       "        vertical-align: middle;\n",
       "    }\n",
       "\n",
       "    .dataframe tbody tr th {\n",
       "        vertical-align: top;\n",
       "    }\n",
       "\n",
       "    .dataframe thead th {\n",
       "        text-align: right;\n",
       "    }\n",
       "</style>\n",
       "<table border=\"1\" class=\"dataframe\">\n",
       "  <thead>\n",
       "    <tr style=\"text-align: right;\">\n",
       "      <th></th>\n",
       "      <th>pixel0</th>\n",
       "      <th>pixel1</th>\n",
       "      <th>pixel2</th>\n",
       "      <th>pixel3</th>\n",
       "      <th>pixel4</th>\n",
       "      <th>pixel5</th>\n",
       "      <th>pixel6</th>\n",
       "      <th>pixel7</th>\n",
       "      <th>pixel8</th>\n",
       "      <th>pixel9</th>\n",
       "      <th>...</th>\n",
       "      <th>pixel774</th>\n",
       "      <th>pixel775</th>\n",
       "      <th>pixel776</th>\n",
       "      <th>pixel777</th>\n",
       "      <th>pixel778</th>\n",
       "      <th>pixel779</th>\n",
       "      <th>pixel780</th>\n",
       "      <th>pixel781</th>\n",
       "      <th>pixel782</th>\n",
       "      <th>pixel783</th>\n",
       "    </tr>\n",
       "  </thead>\n",
       "  <tbody>\n",
       "    <tr>\n",
       "      <th>0</th>\n",
       "      <td>0</td>\n",
       "      <td>0</td>\n",
       "      <td>0</td>\n",
       "      <td>0</td>\n",
       "      <td>0</td>\n",
       "      <td>0</td>\n",
       "      <td>0</td>\n",
       "      <td>0</td>\n",
       "      <td>0</td>\n",
       "      <td>0</td>\n",
       "      <td>...</td>\n",
       "      <td>0</td>\n",
       "      <td>0</td>\n",
       "      <td>0</td>\n",
       "      <td>0</td>\n",
       "      <td>0</td>\n",
       "      <td>0</td>\n",
       "      <td>0</td>\n",
       "      <td>0</td>\n",
       "      <td>0</td>\n",
       "      <td>0</td>\n",
       "    </tr>\n",
       "    <tr>\n",
       "      <th>1</th>\n",
       "      <td>0</td>\n",
       "      <td>0</td>\n",
       "      <td>0</td>\n",
       "      <td>0</td>\n",
       "      <td>0</td>\n",
       "      <td>0</td>\n",
       "      <td>0</td>\n",
       "      <td>0</td>\n",
       "      <td>0</td>\n",
       "      <td>0</td>\n",
       "      <td>...</td>\n",
       "      <td>0</td>\n",
       "      <td>0</td>\n",
       "      <td>0</td>\n",
       "      <td>0</td>\n",
       "      <td>0</td>\n",
       "      <td>0</td>\n",
       "      <td>0</td>\n",
       "      <td>0</td>\n",
       "      <td>0</td>\n",
       "      <td>0</td>\n",
       "    </tr>\n",
       "    <tr>\n",
       "      <th>2</th>\n",
       "      <td>0</td>\n",
       "      <td>0</td>\n",
       "      <td>0</td>\n",
       "      <td>0</td>\n",
       "      <td>0</td>\n",
       "      <td>0</td>\n",
       "      <td>0</td>\n",
       "      <td>0</td>\n",
       "      <td>0</td>\n",
       "      <td>0</td>\n",
       "      <td>...</td>\n",
       "      <td>0</td>\n",
       "      <td>0</td>\n",
       "      <td>0</td>\n",
       "      <td>0</td>\n",
       "      <td>0</td>\n",
       "      <td>0</td>\n",
       "      <td>0</td>\n",
       "      <td>0</td>\n",
       "      <td>0</td>\n",
       "      <td>0</td>\n",
       "    </tr>\n",
       "    <tr>\n",
       "      <th>3</th>\n",
       "      <td>0</td>\n",
       "      <td>0</td>\n",
       "      <td>0</td>\n",
       "      <td>0</td>\n",
       "      <td>0</td>\n",
       "      <td>0</td>\n",
       "      <td>0</td>\n",
       "      <td>0</td>\n",
       "      <td>0</td>\n",
       "      <td>0</td>\n",
       "      <td>...</td>\n",
       "      <td>0</td>\n",
       "      <td>0</td>\n",
       "      <td>0</td>\n",
       "      <td>0</td>\n",
       "      <td>0</td>\n",
       "      <td>0</td>\n",
       "      <td>0</td>\n",
       "      <td>0</td>\n",
       "      <td>0</td>\n",
       "      <td>0</td>\n",
       "    </tr>\n",
       "    <tr>\n",
       "      <th>4</th>\n",
       "      <td>0</td>\n",
       "      <td>0</td>\n",
       "      <td>0</td>\n",
       "      <td>0</td>\n",
       "      <td>0</td>\n",
       "      <td>0</td>\n",
       "      <td>0</td>\n",
       "      <td>0</td>\n",
       "      <td>0</td>\n",
       "      <td>0</td>\n",
       "      <td>...</td>\n",
       "      <td>0</td>\n",
       "      <td>0</td>\n",
       "      <td>0</td>\n",
       "      <td>0</td>\n",
       "      <td>0</td>\n",
       "      <td>0</td>\n",
       "      <td>0</td>\n",
       "      <td>0</td>\n",
       "      <td>0</td>\n",
       "      <td>0</td>\n",
       "    </tr>\n",
       "  </tbody>\n",
       "</table>\n",
       "<p>5 rows × 784 columns</p>\n",
       "</div>"
      ],
      "text/plain": [
       "   pixel0  pixel1  pixel2  pixel3  pixel4  pixel5  pixel6  pixel7  pixel8  \\\n",
       "0       0       0       0       0       0       0       0       0       0   \n",
       "1       0       0       0       0       0       0       0       0       0   \n",
       "2       0       0       0       0       0       0       0       0       0   \n",
       "3       0       0       0       0       0       0       0       0       0   \n",
       "4       0       0       0       0       0       0       0       0       0   \n",
       "\n",
       "   pixel9  ...  pixel774  pixel775  pixel776  pixel777  pixel778  pixel779  \\\n",
       "0       0  ...         0         0         0         0         0         0   \n",
       "1       0  ...         0         0         0         0         0         0   \n",
       "2       0  ...         0         0         0         0         0         0   \n",
       "3       0  ...         0         0         0         0         0         0   \n",
       "4       0  ...         0         0         0         0         0         0   \n",
       "\n",
       "   pixel780  pixel781  pixel782  pixel783  \n",
       "0         0         0         0         0  \n",
       "1         0         0         0         0  \n",
       "2         0         0         0         0  \n",
       "3         0         0         0         0  \n",
       "4         0         0         0         0  \n",
       "\n",
       "[5 rows x 784 columns]"
      ]
     },
     "execution_count": 3,
     "metadata": {},
     "output_type": "execute_result"
    }
   ],
   "source": [
    "# Read input test data\n",
    "\n",
    "test = pd.read_csv(\"input/test.csv\")\n",
    "print(test.shape)\n",
    "test.head()"
   ]
  },
  {
   "cell_type": "code",
   "execution_count": 4,
   "metadata": {},
   "outputs": [],
   "source": [
    "# Split train data and change types\n",
    "\n",
    "X_train = (train.iloc[:, 1:].values).astype('float32')\n",
    "y_train = train.iloc[:, 0].values.astype('int32')\n",
    "X_test = test.values.astype('float32')"
   ]
  },
  {
   "cell_type": "code",
   "execution_count": 5,
   "metadata": {},
   "outputs": [
    {
     "data": {
      "text/plain": [
       "array([[0., 0., 0., ..., 0., 0., 0.],\n",
       "       [0., 0., 0., ..., 0., 0., 0.],\n",
       "       [0., 0., 0., ..., 0., 0., 0.],\n",
       "       ...,\n",
       "       [0., 0., 0., ..., 0., 0., 0.],\n",
       "       [0., 0., 0., ..., 0., 0., 0.],\n",
       "       [0., 0., 0., ..., 0., 0., 0.]], dtype=float32)"
      ]
     },
     "execution_count": 5,
     "metadata": {},
     "output_type": "execute_result"
    }
   ],
   "source": [
    "X_train"
   ]
  },
  {
   "cell_type": "code",
   "execution_count": 6,
   "metadata": {},
   "outputs": [
    {
     "data": {
      "text/plain": [
       "array([1, 0, 1, ..., 7, 6, 9], dtype=int32)"
      ]
     },
     "execution_count": 6,
     "metadata": {},
     "output_type": "execute_result"
    }
   ],
   "source": [
    "y_train"
   ]
  },
  {
   "cell_type": "code",
   "execution_count": 7,
   "metadata": {},
   "outputs": [
    {
     "data": {
      "image/png": "[encoded data removed]",
      "text/plain": [
       "<Figure size 432x288 with 9 Axes>"
      ]
     },
     "metadata": {
      "needs_background": "light"
     },
     "output_type": "display_data"
    }
   ],
   "source": [
    "X_train = X_train.reshape(X_train.shape[0], 28, 28)\n",
    "\n",
    "for i in range(9):\n",
    "    plt.subplot(330 + (i + 1))\n",
    "    plt.imshow(X_train[i], cmap = plt.get_cmap('gray'))\n",
    "    plt.title(y_train[i]);"
   ]
  },
  {
   "cell_type": "code",
   "execution_count": 8,
   "metadata": {},
   "outputs": [
    {
     "data": {
      "text/plain": [
       "(42000, 28, 28, 1)"
      ]
     },
     "execution_count": 8,
     "metadata": {},
     "output_type": "execute_result"
    }
   ],
   "source": [
    "# Reshape train set\n",
    "\n",
    "X_train = X_train.reshape(X_train.shape[0], 28, 28, 1)\n",
    "X_train.shape"
   ]
  },
  {
   "cell_type": "code",
   "execution_count": 9,
   "metadata": {},
   "outputs": [
    {
     "data": {
      "text/plain": [
       "(28000, 28, 28, 1)"
      ]
     },
     "execution_count": 9,
     "metadata": {},
     "output_type": "execute_result"
    }
   ],
   "source": [
    "# Reshape test set\n",
    "\n",
    "X_test = X_test.reshape(X_test.shape[0], 28, 28, 1)\n",
    "X_test.shape"
   ]
  },
  {
   "cell_type": "code",
   "execution_count": 10,
   "metadata": {},
   "outputs": [],
   "source": [
    "# Standartize all values. It will be used as Lambda layer.\n",
    "\n",
    "mean_px = X_train.mean().astype(np.float32)\n",
    "std_px = X_train.std().astype(np.float32)\n",
    "\n",
    "def standardize(x): \n",
    "    return (x - mean_px) / std_px"
   ]
  },
  {
   "cell_type": "code",
   "execution_count": 11,
   "metadata": {},
   "outputs": [
    {
     "data": {
      "text/plain": [
       "10"
      ]
     },
     "execution_count": 11,
     "metadata": {},
     "output_type": "execute_result"
    }
   ],
   "source": [
    "# One hot encoding\n",
    "\n",
    "from keras.utils.np_utils import to_categorical\n",
    "y_train = to_categorical(y_train)\n",
    "num_classes = y_train.shape[1]\n",
    "num_classes"
   ]
  },
  {
   "cell_type": "code",
   "execution_count": 12,
   "metadata": {},
   "outputs": [],
   "source": [
    "# Fix random seed for reproducibility\n",
    "\n",
    "seed = 42\n",
    "np.random.seed(seed)"
   ]
  },
  {
   "cell_type": "code",
   "execution_count": 13,
   "metadata": {},
   "outputs": [],
   "source": [
    "from keras.models import  Sequential\n",
    "from keras.layers.core import  Lambda, Dense, Flatten, Dropout\n",
    "from keras.layers import BatchNormalization, Convolution2D, MaxPooling2D"
   ]
  },
  {
   "cell_type": "code",
   "execution_count": 14,
   "metadata": {},
   "outputs": [
    {
     "name": "stdout",
     "output_type": "stream",
     "text": [
      "Input shape  (None, 28, 28, 1)\n",
      "Output shape  (None, 10)\n"
     ]
    }
   ],
   "source": [
    "model = Sequential([\n",
    "        Lambda(standardize, input_shape = (28, 28, 1)),\n",
    "\n",
    "        Convolution2D(32, (3, 3), activation = 'relu'),\n",
    "\n",
    "        BatchNormalization(axis = 1),\n",
    "        Dropout(0.5),\n",
    "    \n",
    "        Convolution2D(32, (3, 3), activation = 'relu'),    \n",
    "        \n",
    "        MaxPooling2D(),\n",
    "        \n",
    "        BatchNormalization(axis = 1),\n",
    "        Dropout(0.5),\n",
    "        \n",
    "        Convolution2D(64, (3, 3), activation = 'relu'),\n",
    "        \n",
    "        BatchNormalization(axis = 1),\n",
    "        Dropout(0.5),\n",
    "    \n",
    "        Convolution2D(64, (3, 3), activation = 'relu'),    \n",
    "        \n",
    "        MaxPooling2D(),\n",
    "\n",
    "        Flatten(),\n",
    "        \n",
    "        BatchNormalization(),\n",
    "        \n",
    "        Dense(512, activation = 'relu'),\n",
    "        \n",
    "        BatchNormalization(),\n",
    "        \n",
    "        Dense(10, activation = 'softmax')\n",
    "        ])\n",
    "print(\"Input shape \", model.input_shape)\n",
    "print(\"Output shape \", model.output_shape)"
   ]
  },
  {
   "cell_type": "code",
   "execution_count": 15,
   "metadata": {},
   "outputs": [],
   "source": [
    "LR = 0.001\n",
    "BATCH_SIZE = 64\n",
    "EPOCHS = 100\n",
    "TEST_SIZE = 0.1"
   ]
  },
  {
   "cell_type": "code",
   "execution_count": 16,
   "metadata": {},
   "outputs": [],
   "source": [
    "from keras.optimizers import RMSprop\n",
    "model.compile(optimizer = RMSprop(lr = LR), loss = 'categorical_crossentropy', metrics=['accuracy'])"
   ]
  },
  {
   "cell_type": "code",
   "execution_count": 17,
   "metadata": {},
   "outputs": [],
   "source": [
    "from keras.preprocessing import image\n",
    "\n",
    "gen = image.ImageDataGenerator(rotation_range = 8,\n",
    "                               width_shift_range = 0.08,\n",
    "                               shear_range = 0.3,\n",
    "                               height_shift_range = 0.08,\n",
    "                               zoom_range = 0.08)"
   ]
  },
  {
   "cell_type": "code",
   "execution_count": 18,
   "metadata": {},
   "outputs": [
    {
     "name": "stdout",
     "output_type": "stream",
     "text": [
      "4\n"
     ]
    }
   ],
   "source": [
    "TEST_IMG = 3\n",
    "print(np.argmax(y_train[TEST_IMG]))"
   ]
  },
  {
   "cell_type": "code",
   "execution_count": 19,
   "metadata": {},
   "outputs": [
    {
     "data": {
      "image/png": "[encoded data removed]",
      "text/plain": [
       "<Figure size 432x288 with 9 Axes>"
      ]
     },
     "metadata": {
      "needs_background": "light"
     },
     "output_type": "display_data"
    }
   ],
   "source": [
    "from numpy import expand_dims\n",
    "from matplotlib import pyplot\n",
    "\n",
    "data = X_train[TEST_IMG]\n",
    "# expand dimension to one sample\n",
    "samples = expand_dims(data, 0)\n",
    "# prepare iterator\n",
    "it = gen.flow(samples, batch_size = 1)\n",
    "\n",
    "# generate samples and plot\n",
    "for i in range(9):\n",
    "    # define subplot\n",
    "    pyplot.subplot(330 + 1 + i)\n",
    "    # generate batch of images\n",
    "    batch = it.next()\n",
    "    # plot raw pixel data\n",
    "    pyplot.imshow(batch[0].astype('uint8'), cmap = plt.get_cmap('gray'))\n",
    "\n",
    "pyplot.show()"
   ]
  },
  {
   "cell_type": "code",
   "execution_count": 20,
   "metadata": {},
   "outputs": [],
   "source": [
    "from sklearn.model_selection import train_test_split\n",
    "X = X_train\n",
    "y = y_train\n",
    "X_train, X_val, y_train, y_val = train_test_split(X_train, y_train, test_size = TEST_SIZE, random_state = seed)\n",
    "batches = gen.flow(X_train, y_train, batch_size = BATCH_SIZE)\n",
    "val_batches = gen.flow(X_val, y_val, batch_size = BATCH_SIZE)"
   ]
  },
  {
   "cell_type": "code",
   "execution_count": 21,
   "metadata": {},
   "outputs": [
    {
     "name": "stdout",
     "output_type": "stream",
     "text": [
      "Epoch 1/100\n",
      "590/590 [==============================] - 7s 11ms/step - loss: 0.3278 - accuracy: 0.8959 - val_loss: 0.1223 - val_accuracy: 0.9611\n",
      "Epoch 2/100\n",
      "590/590 [==============================] - 7s 11ms/step - loss: 0.1118 - accuracy: 0.9652 - val_loss: 0.0692 - val_accuracy: 0.9788\n",
      "Epoch 3/100\n",
      "590/590 [==============================] - 7s 11ms/step - loss: 0.0859 - accuracy: 0.9729 - val_loss: 0.0497 - val_accuracy: 0.9834\n",
      "Epoch 4/100\n",
      "590/590 [==============================] - 7s 11ms/step - loss: 0.0713 - accuracy: 0.9786 - val_loss: 0.0484 - val_accuracy: 0.9839\n",
      "Epoch 5/100\n",
      "590/590 [==============================] - 6s 11ms/step - loss: 0.0632 - accuracy: 0.9795 - val_loss: 0.0456 - val_accuracy: 0.9844\n",
      "Epoch 6/100\n",
      "590/590 [==============================] - 7s 11ms/step - loss: 0.0569 - accuracy: 0.9828 - val_loss: 0.0455 - val_accuracy: 0.9861\n",
      "Epoch 7/100\n",
      "590/590 [==============================] - 7s 11ms/step - loss: 0.0543 - accuracy: 0.9832 - val_loss: 0.0424 - val_accuracy: 0.9873\n",
      "Epoch 8/100\n",
      "590/590 [==============================] - 7s 11ms/step - loss: 0.0495 - accuracy: 0.9842 - val_loss: 0.0378 - val_accuracy: 0.9877\n",
      "Epoch 9/100\n",
      "590/590 [==============================] - 6s 11ms/step - loss: 0.0470 - accuracy: 0.9850 - val_loss: 0.0375 - val_accuracy: 0.9899\n",
      "Epoch 10/100\n",
      "590/590 [==============================] - 6s 11ms/step - loss: 0.0455 - accuracy: 0.9867 - val_loss: 0.0410 - val_accuracy: 0.9899\n",
      "Epoch 11/100\n",
      "590/590 [==============================] - 7s 11ms/step - loss: 0.0437 - accuracy: 0.9864 - val_loss: 0.0274 - val_accuracy: 0.9928\n",
      "Epoch 12/100\n",
      "590/590 [==============================] - 7s 11ms/step - loss: 0.0420 - accuracy: 0.9876 - val_loss: 0.0269 - val_accuracy: 0.9916\n",
      "Epoch 13/100\n",
      "590/590 [==============================] - 6s 11ms/step - loss: 0.0397 - accuracy: 0.9881 - val_loss: 0.0377 - val_accuracy: 0.9894\n",
      "Epoch 14/100\n",
      "590/590 [==============================] - 7s 11ms/step - loss: 0.0385 - accuracy: 0.9877 - val_loss: 0.0406 - val_accuracy: 0.9894\n",
      "Epoch 15/100\n",
      "590/590 [==============================] - 7s 11ms/step - loss: 0.0393 - accuracy: 0.9884 - val_loss: 0.0273 - val_accuracy: 0.9925\n",
      "Epoch 16/100\n",
      "590/590 [==============================] - 7s 11ms/step - loss: 0.0347 - accuracy: 0.9890 - val_loss: 0.0335 - val_accuracy: 0.9906\n",
      "Epoch 17/100\n",
      "590/590 [==============================] - 7s 11ms/step - loss: 0.0348 - accuracy: 0.9895 - val_loss: 0.0315 - val_accuracy: 0.9906\n",
      "Epoch 18/100\n",
      "590/590 [==============================] - 6s 11ms/step - loss: 0.0358 - accuracy: 0.9893 - val_loss: 0.0315 - val_accuracy: 0.9911\n",
      "Epoch 19/100\n",
      "590/590 [==============================] - 7s 11ms/step - loss: 0.0374 - accuracy: 0.9890 - val_loss: 0.0309 - val_accuracy: 0.9906\n",
      "Epoch 20/100\n",
      "590/590 [==============================] - 6s 11ms/step - loss: 0.0331 - accuracy: 0.9901 - val_loss: 0.0334 - val_accuracy: 0.9899\n",
      "Epoch 21/100\n",
      "590/590 [==============================] - 6s 11ms/step - loss: 0.0325 - accuracy: 0.9909 - val_loss: 0.0221 - val_accuracy: 0.9916\n",
      "Epoch 22/100\n",
      "590/590 [==============================] - 7s 11ms/step - loss: 0.0326 - accuracy: 0.9899 - val_loss: 0.0300 - val_accuracy: 0.9909\n",
      "Epoch 23/100\n",
      "590/590 [==============================] - 7s 11ms/step - loss: 0.0323 - accuracy: 0.9897 - val_loss: 0.0277 - val_accuracy: 0.9916\n",
      "Epoch 24/100\n",
      "590/590 [==============================] - 7s 11ms/step - loss: 0.0330 - accuracy: 0.9895 - val_loss: 0.0238 - val_accuracy: 0.9928\n",
      "Epoch 25/100\n",
      "590/590 [==============================] - 8s 14ms/step - loss: 0.0305 - accuracy: 0.9908 - val_loss: 0.0260 - val_accuracy: 0.9923\n",
      "Epoch 26/100\n",
      "590/590 [==============================] - 7s 12ms/step - loss: 0.0293 - accuracy: 0.9913 - val_loss: 0.0313 - val_accuracy: 0.9913\n",
      "Epoch 27/100\n",
      "590/590 [==============================] - 7s 11ms/step - loss: 0.0267 - accuracy: 0.9920 - val_loss: 0.0259 - val_accuracy: 0.9921\n",
      "Epoch 28/100\n",
      "590/590 [==============================] - 7s 11ms/step - loss: 0.0309 - accuracy: 0.9904 - val_loss: 0.0282 - val_accuracy: 0.9906\n",
      "Epoch 29/100\n",
      "590/590 [==============================] - 7s 11ms/step - loss: 0.0293 - accuracy: 0.9913 - val_loss: 0.0287 - val_accuracy: 0.9918\n",
      "Epoch 30/100\n",
      "590/590 [==============================] - 7s 11ms/step - loss: 0.0253 - accuracy: 0.9919 - val_loss: 0.0240 - val_accuracy: 0.9930\n",
      "Epoch 31/100\n",
      "590/590 [==============================] - 7s 11ms/step - loss: 0.0279 - accuracy: 0.9917 - val_loss: 0.0351 - val_accuracy: 0.9892\n",
      "Epoch 32/100\n",
      "590/590 [==============================] - 7s 11ms/step - loss: 0.0265 - accuracy: 0.9921 - val_loss: 0.0263 - val_accuracy: 0.9921\n",
      "Epoch 33/100\n",
      "590/590 [==============================] - 7s 11ms/step - loss: 0.0283 - accuracy: 0.9919 - val_loss: 0.0306 - val_accuracy: 0.9909\n",
      "Epoch 34/100\n",
      "590/590 [==============================] - 6s 11ms/step - loss: 0.0273 - accuracy: 0.9921 - val_loss: 0.0304 - val_accuracy: 0.9916\n",
      "Epoch 35/100\n",
      "590/590 [==============================] - 6s 11ms/step - loss: 0.0258 - accuracy: 0.9925 - val_loss: 0.0238 - val_accuracy: 0.9930\n",
      "Epoch 36/100\n",
      "590/590 [==============================] - 7s 11ms/step - loss: 0.0279 - accuracy: 0.9918 - val_loss: 0.0277 - val_accuracy: 0.9925\n",
      "Epoch 37/100\n",
      "590/590 [==============================] - 7s 11ms/step - loss: 0.0276 - accuracy: 0.9916 - val_loss: 0.0285 - val_accuracy: 0.9913\n",
      "Epoch 38/100\n",
      "590/590 [==============================] - 7s 11ms/step - loss: 0.0256 - accuracy: 0.9922 - val_loss: 0.0250 - val_accuracy: 0.9923\n",
      "Epoch 39/100\n",
      "590/590 [==============================] - 7s 11ms/step - loss: 0.0257 - accuracy: 0.9921 - val_loss: 0.0253 - val_accuracy: 0.9916\n",
      "Epoch 40/100\n",
      "590/590 [==============================] - 7s 11ms/step - loss: 0.0245 - accuracy: 0.9923 - val_loss: 0.0255 - val_accuracy: 0.9937\n",
      "Epoch 41/100\n",
      "590/590 [==============================] - 7s 11ms/step - loss: 0.0249 - accuracy: 0.9926 - val_loss: 0.0245 - val_accuracy: 0.9916\n",
      "Epoch 42/100\n",
      "590/590 [==============================] - 7s 11ms/step - loss: 0.0224 - accuracy: 0.9932 - val_loss: 0.0296 - val_accuracy: 0.9918\n",
      "Epoch 43/100\n",
      "590/590 [==============================] - 7s 11ms/step - loss: 0.0231 - accuracy: 0.9930 - val_loss: 0.0252 - val_accuracy: 0.9930\n",
      "Epoch 44/100\n",
      "590/590 [==============================] - 7s 11ms/step - loss: 0.0234 - accuracy: 0.9921 - val_loss: 0.0205 - val_accuracy: 0.9952\n",
      "Epoch 45/100\n",
      "590/590 [==============================] - 7s 11ms/step - loss: 0.0250 - accuracy: 0.9928 - val_loss: 0.0292 - val_accuracy: 0.9923\n",
      "Epoch 46/100\n",
      "590/590 [==============================] - 7s 11ms/step - loss: 0.0239 - accuracy: 0.9926 - val_loss: 0.0278 - val_accuracy: 0.9913\n",
      "Epoch 47/100\n",
      "590/590 [==============================] - 7s 11ms/step - loss: 0.0207 - accuracy: 0.9936 - val_loss: 0.0262 - val_accuracy: 0.9923\n",
      "Epoch 48/100\n",
      "590/590 [==============================] - 7s 11ms/step - loss: 0.0223 - accuracy: 0.9929 - val_loss: 0.0341 - val_accuracy: 0.9913\n",
      "Epoch 49/100\n",
      "590/590 [==============================] - 7s 11ms/step - loss: 0.0242 - accuracy: 0.9930 - val_loss: 0.0273 - val_accuracy: 0.9925\n",
      "Epoch 50/100\n",
      "590/590 [==============================] - 7s 11ms/step - loss: 0.0233 - accuracy: 0.9936 - val_loss: 0.0234 - val_accuracy: 0.9923\n",
      "Epoch 51/100\n",
      "590/590 [==============================] - 7s 11ms/step - loss: 0.0225 - accuracy: 0.9936 - val_loss: 0.0332 - val_accuracy: 0.9911\n",
      "Epoch 52/100\n",
      "590/590 [==============================] - 7s 11ms/step - loss: 0.0218 - accuracy: 0.9934 - val_loss: 0.0270 - val_accuracy: 0.9925\n",
      "Epoch 53/100\n",
      "590/590 [==============================] - 7s 11ms/step - loss: 0.0220 - accuracy: 0.9932 - val_loss: 0.0247 - val_accuracy: 0.9937\n",
      "Epoch 54/100\n",
      "590/590 [==============================] - 7s 11ms/step - loss: 0.0230 - accuracy: 0.9936 - val_loss: 0.0277 - val_accuracy: 0.9916\n",
      "Epoch 55/100\n",
      "590/590 [==============================] - 7s 11ms/step - loss: 0.0214 - accuracy: 0.9935 - val_loss: 0.0208 - val_accuracy: 0.9933\n",
      "Epoch 56/100\n",
      "590/590 [==============================] - 7s 11ms/step - loss: 0.0217 - accuracy: 0.9939 - val_loss: 0.0241 - val_accuracy: 0.9925\n",
      "Epoch 57/100\n"
     ]
    },
    {
     "name": "stdout",
     "output_type": "stream",
     "text": [
      "590/590 [==============================] - 7s 11ms/step - loss: 0.0208 - accuracy: 0.9938 - val_loss: 0.0288 - val_accuracy: 0.9921\n",
      "Epoch 58/100\n",
      "590/590 [==============================] - 7s 11ms/step - loss: 0.0218 - accuracy: 0.9932 - val_loss: 0.0237 - val_accuracy: 0.9933\n",
      "Epoch 59/100\n",
      "590/590 [==============================] - 7s 11ms/step - loss: 0.0191 - accuracy: 0.9947 - val_loss: 0.0262 - val_accuracy: 0.9928\n",
      "Epoch 60/100\n",
      "590/590 [==============================] - 7s 11ms/step - loss: 0.0199 - accuracy: 0.9939 - val_loss: 0.0247 - val_accuracy: 0.9921\n",
      "Epoch 61/100\n",
      "590/590 [==============================] - 6s 11ms/step - loss: 0.0205 - accuracy: 0.9935 - val_loss: 0.0321 - val_accuracy: 0.9925\n",
      "Epoch 62/100\n",
      "590/590 [==============================] - 6s 11ms/step - loss: 0.0200 - accuracy: 0.9938 - val_loss: 0.0294 - val_accuracy: 0.9913\n",
      "Epoch 63/100\n",
      "590/590 [==============================] - 6s 11ms/step - loss: 0.0203 - accuracy: 0.9941 - val_loss: 0.0282 - val_accuracy: 0.9937\n",
      "Epoch 64/100\n",
      "590/590 [==============================] - 6s 11ms/step - loss: 0.0218 - accuracy: 0.9937 - val_loss: 0.0228 - val_accuracy: 0.9930\n",
      "Epoch 65/100\n",
      "590/590 [==============================] - 6s 11ms/step - loss: 0.0212 - accuracy: 0.9939 - val_loss: 0.0334 - val_accuracy: 0.9916\n",
      "Epoch 66/100\n",
      "590/590 [==============================] - 6s 11ms/step - loss: 0.0220 - accuracy: 0.9939 - val_loss: 0.0224 - val_accuracy: 0.9930\n",
      "Epoch 67/100\n",
      "590/590 [==============================] - 7s 11ms/step - loss: 0.0200 - accuracy: 0.9946 - val_loss: 0.0293 - val_accuracy: 0.9925\n",
      "Epoch 68/100\n",
      "590/590 [==============================] - 7s 11ms/step - loss: 0.0187 - accuracy: 0.9945 - val_loss: 0.0201 - val_accuracy: 0.9950\n",
      "Epoch 69/100\n",
      "590/590 [==============================] - 7s 11ms/step - loss: 0.0205 - accuracy: 0.9939 - val_loss: 0.0258 - val_accuracy: 0.9930\n",
      "Epoch 70/100\n",
      "590/590 [==============================] - 7s 11ms/step - loss: 0.0193 - accuracy: 0.9939 - val_loss: 0.0216 - val_accuracy: 0.9940\n",
      "Epoch 71/100\n",
      "590/590 [==============================] - 6s 11ms/step - loss: 0.0199 - accuracy: 0.9940 - val_loss: 0.0222 - val_accuracy: 0.9937\n",
      "Epoch 72/100\n",
      "590/590 [==============================] - 6s 11ms/step - loss: 0.0215 - accuracy: 0.9940 - val_loss: 0.0243 - val_accuracy: 0.9923\n",
      "Epoch 73/100\n",
      "590/590 [==============================] - 7s 11ms/step - loss: 0.0190 - accuracy: 0.9950 - val_loss: 0.0211 - val_accuracy: 0.9940\n",
      "Epoch 74/100\n",
      "590/590 [==============================] - 7s 11ms/step - loss: 0.0187 - accuracy: 0.9942 - val_loss: 0.0276 - val_accuracy: 0.9923\n",
      "Epoch 75/100\n",
      "590/590 [==============================] - 6s 11ms/step - loss: 0.0200 - accuracy: 0.9943 - val_loss: 0.0272 - val_accuracy: 0.9930\n",
      "Epoch 76/100\n",
      "590/590 [==============================] - 6s 11ms/step - loss: 0.0211 - accuracy: 0.9942 - val_loss: 0.0238 - val_accuracy: 0.9928\n",
      "Epoch 77/100\n",
      "590/590 [==============================] - 7s 11ms/step - loss: 0.0183 - accuracy: 0.9949 - val_loss: 0.0216 - val_accuracy: 0.9921\n",
      "Epoch 78/100\n",
      "590/590 [==============================] - 7s 11ms/step - loss: 0.0185 - accuracy: 0.9945 - val_loss: 0.0280 - val_accuracy: 0.9923\n",
      "Epoch 79/100\n",
      "590/590 [==============================] - 6s 11ms/step - loss: 0.0204 - accuracy: 0.9943 - val_loss: 0.0318 - val_accuracy: 0.9918\n",
      "Epoch 80/100\n",
      "590/590 [==============================] - 6s 11ms/step - loss: 0.0184 - accuracy: 0.9944 - val_loss: 0.0289 - val_accuracy: 0.9913\n",
      "Epoch 81/100\n",
      "590/590 [==============================] - 7s 11ms/step - loss: 0.0202 - accuracy: 0.9942 - val_loss: 0.0280 - val_accuracy: 0.9923\n",
      "Epoch 82/100\n",
      "590/590 [==============================] - 7s 11ms/step - loss: 0.0192 - accuracy: 0.9945 - val_loss: 0.0213 - val_accuracy: 0.9950\n",
      "Epoch 83/100\n",
      "590/590 [==============================] - 7s 11ms/step - loss: 0.0172 - accuracy: 0.9950 - val_loss: 0.0299 - val_accuracy: 0.9942\n",
      "Epoch 84/100\n",
      "590/590 [==============================] - 7s 11ms/step - loss: 0.0196 - accuracy: 0.9941 - val_loss: 0.0350 - val_accuracy: 0.9911\n",
      "Epoch 85/100\n",
      "590/590 [==============================] - 7s 11ms/step - loss: 0.0179 - accuracy: 0.9948 - val_loss: 0.0256 - val_accuracy: 0.9935\n",
      "Epoch 86/100\n",
      "590/590 [==============================] - 7s 11ms/step - loss: 0.0188 - accuracy: 0.9943 - val_loss: 0.0215 - val_accuracy: 0.9930\n",
      "Epoch 87/100\n",
      "590/590 [==============================] - 7s 11ms/step - loss: 0.0167 - accuracy: 0.9946 - val_loss: 0.0241 - val_accuracy: 0.9928\n",
      "Epoch 88/100\n",
      "590/590 [==============================] - 7s 11ms/step - loss: 0.0198 - accuracy: 0.9943 - val_loss: 0.0258 - val_accuracy: 0.9933\n",
      "Epoch 89/100\n",
      "590/590 [==============================] - 7s 11ms/step - loss: 0.0175 - accuracy: 0.9948 - val_loss: 0.0307 - val_accuracy: 0.9930\n",
      "Epoch 90/100\n",
      "590/590 [==============================] - 7s 11ms/step - loss: 0.0181 - accuracy: 0.9947 - val_loss: 0.0286 - val_accuracy: 0.9925\n",
      "Epoch 91/100\n",
      "590/590 [==============================] - 7s 11ms/step - loss: 0.0183 - accuracy: 0.9944 - val_loss: 0.0204 - val_accuracy: 0.9942\n",
      "Epoch 92/100\n",
      "590/590 [==============================] - 7s 11ms/step - loss: 0.0188 - accuracy: 0.9946 - val_loss: 0.0273 - val_accuracy: 0.9913\n",
      "Epoch 93/100\n",
      "590/590 [==============================] - 7s 11ms/step - loss: 0.0197 - accuracy: 0.9948 - val_loss: 0.0388 - val_accuracy: 0.9918\n",
      "Epoch 94/100\n",
      "590/590 [==============================] - 7s 11ms/step - loss: 0.0181 - accuracy: 0.9948 - val_loss: 0.0231 - val_accuracy: 0.9925\n",
      "Epoch 95/100\n",
      "590/590 [==============================] - 7s 11ms/step - loss: 0.0187 - accuracy: 0.9946 - val_loss: 0.0206 - val_accuracy: 0.9940\n",
      "Epoch 96/100\n",
      "590/590 [==============================] - 7s 11ms/step - loss: 0.0162 - accuracy: 0.9950 - val_loss: 0.0227 - val_accuracy: 0.9921\n",
      "Epoch 97/100\n",
      "590/590 [==============================] - 7s 11ms/step - loss: 0.0172 - accuracy: 0.9950 - val_loss: 0.0351 - val_accuracy: 0.9916\n",
      "Epoch 98/100\n",
      "590/590 [==============================] - 7s 11ms/step - loss: 0.0172 - accuracy: 0.9953 - val_loss: 0.0265 - val_accuracy: 0.9930\n",
      "Epoch 99/100\n",
      "590/590 [==============================] - 7s 11ms/step - loss: 0.0183 - accuracy: 0.9949 - val_loss: 0.0272 - val_accuracy: 0.9935\n",
      "Epoch 100/100\n",
      "590/590 [==============================] - 7s 11ms/step - loss: 0.0173 - accuracy: 0.9951 - val_loss: 0.0279 - val_accuracy: 0.9916\n"
     ]
    }
   ],
   "source": [
    "history = model.fit(batches,\n",
    "                    steps_per_epoch = np.floor(batches.n / BATCH_SIZE),\n",
    "                    epochs = EPOCHS,\n",
    "                    validation_data = val_batches,\n",
    "                    validation_steps = np.floor(val_batches.n / BATCH_SIZE))"
   ]
  },
  {
   "cell_type": "code",
   "execution_count": 22,
   "metadata": {},
   "outputs": [
    {
     "data": {
      "text/plain": [
       "(0.0, 1.0)"
      ]
     },
     "execution_count": 22,
     "metadata": {},
     "output_type": "execute_result"
    },
    {
     "data": {
      "image/png": "[encoded data removed]",
      "text/plain": [
       "<Figure size 432x288 with 1 Axes>"
      ]
     },
     "metadata": {},
     "output_type": "display_data"
    }
   ],
   "source": [
    "import matplotlib.pyplot as plt\n",
    "%matplotlib inline\n",
    "\n",
    "history_dict = history.history\n",
    "N = np.arange(0, EPOCHS)\n",
    "plt.style.use('ggplot')\n",
    "plt.figure()\n",
    "plt.plot(N, history_dict['loss'], label = 'train_loss')\n",
    "plt.plot(N, history_dict['val_loss'], label = 'val_loss')\n",
    "plt.plot(N, history_dict['accuracy'], label = 'train_acc')\n",
    "plt.plot(N, history_dict['val_accuracy'], label = 'val_acc')\n",
    "plt.title('Training Loss and Accuracy on Dataset')\n",
    "plt.xlabel('Epoch #')\n",
    "plt.ylabel('Loss/Accuracy')\n",
    "plt.legend(loc = 'center right')\n",
    "plt.ylim((0.0, 1.0))"
   ]
  },
  {
   "cell_type": "code",
   "execution_count": 23,
   "metadata": {},
   "outputs": [],
   "source": [
    "predictions = np.argmax(model.predict(X_test), axis = -1)\n",
    "\n",
    "submissions = pd.DataFrame({\"ImageId\": list(range(1, len(predictions) + 1)),\n",
    "                            \"Label\": predictions})\n",
    "\n",
    "submissions.to_csv(\"prediction.csv\", index = False, header = True)"
   ]
  }
 ],
 "metadata": {
  "kernelspec": {
   "display_name": "Python 3",
   "language": "python",
   "name": "python3"
  },
  "language_info": {
   "codemirror_mode": {
    "name": "ipython",
    "version": 3
   },
   "file_extension": ".py",
   "mimetype": "text/x-python",
   "name": "python",
   "nbconvert_exporter": "python",
   "pygments_lexer": "ipython3",
   "version": "3.8.5"
  }
 },
 "nbformat": 4,
 "nbformat_minor": 4
}
