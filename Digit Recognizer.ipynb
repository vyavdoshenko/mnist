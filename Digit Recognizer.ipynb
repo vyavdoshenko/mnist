{
 "cells": [
  {
   "cell_type": "code",
   "execution_count": 1,
   "metadata": {},
   "outputs": [],
   "source": [
    "# Import all necessary packages\n",
    "import numpy as np\n",
    "import pandas as pd\n",
    "\n",
    "import matplotlib.pyplot as plt\n",
    "%matplotlib inline"
   ]
  },
  {
   "cell_type": "code",
   "execution_count": 2,
   "metadata": {},
   "outputs": [
    {
     "name": "stdout",
     "output_type": "stream",
     "text": [
      "(42000, 785)\n"
     ]
    },
    {
     "data": {
      "text/html": [
       "<div>\n",
       "<style scoped>\n",
       "    .dataframe tbody tr th:only-of-type {\n",
       "        vertical-align: middle;\n",
       "    }\n",
       "\n",
       "    .dataframe tbody tr th {\n",
       "        vertical-align: top;\n",
       "    }\n",
       "\n",
       "    .dataframe thead th {\n",
       "        text-align: right;\n",
       "    }\n",
       "</style>\n",
       "<table border=\"1\" class=\"dataframe\">\n",
       "  <thead>\n",
       "    <tr style=\"text-align: right;\">\n",
       "      <th></th>\n",
       "      <th>label</th>\n",
       "      <th>pixel0</th>\n",
       "      <th>pixel1</th>\n",
       "      <th>pixel2</th>\n",
       "      <th>pixel3</th>\n",
       "      <th>pixel4</th>\n",
       "      <th>pixel5</th>\n",
       "      <th>pixel6</th>\n",
       "      <th>pixel7</th>\n",
       "      <th>pixel8</th>\n",
       "      <th>...</th>\n",
       "      <th>pixel774</th>\n",
       "      <th>pixel775</th>\n",
       "      <th>pixel776</th>\n",
       "      <th>pixel777</th>\n",
       "      <th>pixel778</th>\n",
       "      <th>pixel779</th>\n",
       "      <th>pixel780</th>\n",
       "      <th>pixel781</th>\n",
       "      <th>pixel782</th>\n",
       "      <th>pixel783</th>\n",
       "    </tr>\n",
       "  </thead>\n",
       "  <tbody>\n",
       "    <tr>\n",
       "      <th>0</th>\n",
       "      <td>1</td>\n",
       "      <td>0</td>\n",
       "      <td>0</td>\n",
       "      <td>0</td>\n",
       "      <td>0</td>\n",
       "      <td>0</td>\n",
       "      <td>0</td>\n",
       "      <td>0</td>\n",
       "      <td>0</td>\n",
       "      <td>0</td>\n",
       "      <td>...</td>\n",
       "      <td>0</td>\n",
       "      <td>0</td>\n",
       "      <td>0</td>\n",
       "      <td>0</td>\n",
       "      <td>0</td>\n",
       "      <td>0</td>\n",
       "      <td>0</td>\n",
       "      <td>0</td>\n",
       "      <td>0</td>\n",
       "      <td>0</td>\n",
       "    </tr>\n",
       "    <tr>\n",
       "      <th>1</th>\n",
       "      <td>0</td>\n",
       "      <td>0</td>\n",
       "      <td>0</td>\n",
       "      <td>0</td>\n",
       "      <td>0</td>\n",
       "      <td>0</td>\n",
       "      <td>0</td>\n",
       "      <td>0</td>\n",
       "      <td>0</td>\n",
       "      <td>0</td>\n",
       "      <td>...</td>\n",
       "      <td>0</td>\n",
       "      <td>0</td>\n",
       "      <td>0</td>\n",
       "      <td>0</td>\n",
       "      <td>0</td>\n",
       "      <td>0</td>\n",
       "      <td>0</td>\n",
       "      <td>0</td>\n",
       "      <td>0</td>\n",
       "      <td>0</td>\n",
       "    </tr>\n",
       "    <tr>\n",
       "      <th>2</th>\n",
       "      <td>1</td>\n",
       "      <td>0</td>\n",
       "      <td>0</td>\n",
       "      <td>0</td>\n",
       "      <td>0</td>\n",
       "      <td>0</td>\n",
       "      <td>0</td>\n",
       "      <td>0</td>\n",
       "      <td>0</td>\n",
       "      <td>0</td>\n",
       "      <td>...</td>\n",
       "      <td>0</td>\n",
       "      <td>0</td>\n",
       "      <td>0</td>\n",
       "      <td>0</td>\n",
       "      <td>0</td>\n",
       "      <td>0</td>\n",
       "      <td>0</td>\n",
       "      <td>0</td>\n",
       "      <td>0</td>\n",
       "      <td>0</td>\n",
       "    </tr>\n",
       "    <tr>\n",
       "      <th>3</th>\n",
       "      <td>4</td>\n",
       "      <td>0</td>\n",
       "      <td>0</td>\n",
       "      <td>0</td>\n",
       "      <td>0</td>\n",
       "      <td>0</td>\n",
       "      <td>0</td>\n",
       "      <td>0</td>\n",
       "      <td>0</td>\n",
       "      <td>0</td>\n",
       "      <td>...</td>\n",
       "      <td>0</td>\n",
       "      <td>0</td>\n",
       "      <td>0</td>\n",
       "      <td>0</td>\n",
       "      <td>0</td>\n",
       "      <td>0</td>\n",
       "      <td>0</td>\n",
       "      <td>0</td>\n",
       "      <td>0</td>\n",
       "      <td>0</td>\n",
       "    </tr>\n",
       "    <tr>\n",
       "      <th>4</th>\n",
       "      <td>0</td>\n",
       "      <td>0</td>\n",
       "      <td>0</td>\n",
       "      <td>0</td>\n",
       "      <td>0</td>\n",
       "      <td>0</td>\n",
       "      <td>0</td>\n",
       "      <td>0</td>\n",
       "      <td>0</td>\n",
       "      <td>0</td>\n",
       "      <td>...</td>\n",
       "      <td>0</td>\n",
       "      <td>0</td>\n",
       "      <td>0</td>\n",
       "      <td>0</td>\n",
       "      <td>0</td>\n",
       "      <td>0</td>\n",
       "      <td>0</td>\n",
       "      <td>0</td>\n",
       "      <td>0</td>\n",
       "      <td>0</td>\n",
       "    </tr>\n",
       "  </tbody>\n",
       "</table>\n",
       "<p>5 rows × 785 columns</p>\n",
       "</div>"
      ],
      "text/plain": [
       "   label  pixel0  pixel1  pixel2  pixel3  pixel4  pixel5  pixel6  pixel7  \\\n",
       "0      1       0       0       0       0       0       0       0       0   \n",
       "1      0       0       0       0       0       0       0       0       0   \n",
       "2      1       0       0       0       0       0       0       0       0   \n",
       "3      4       0       0       0       0       0       0       0       0   \n",
       "4      0       0       0       0       0       0       0       0       0   \n",
       "\n",
       "   pixel8  ...  pixel774  pixel775  pixel776  pixel777  pixel778  pixel779  \\\n",
       "0       0  ...         0         0         0         0         0         0   \n",
       "1       0  ...         0         0         0         0         0         0   \n",
       "2       0  ...         0         0         0         0         0         0   \n",
       "3       0  ...         0         0         0         0         0         0   \n",
       "4       0  ...         0         0         0         0         0         0   \n",
       "\n",
       "   pixel780  pixel781  pixel782  pixel783  \n",
       "0         0         0         0         0  \n",
       "1         0         0         0         0  \n",
       "2         0         0         0         0  \n",
       "3         0         0         0         0  \n",
       "4         0         0         0         0  \n",
       "\n",
       "[5 rows x 785 columns]"
      ]
     },
     "execution_count": 2,
     "metadata": {},
     "output_type": "execute_result"
    }
   ],
   "source": [
    "# Read input train data\n",
    "\n",
    "train = pd.read_csv(\"input/train.csv\")\n",
    "print(train.shape)\n",
    "train.head()"
   ]
  },
  {
   "cell_type": "code",
   "execution_count": 3,
   "metadata": {},
   "outputs": [
    {
     "name": "stdout",
     "output_type": "stream",
     "text": [
      "(28000, 784)\n"
     ]
    },
    {
     "data": {
      "text/html": [
       "<div>\n",
       "<style scoped>\n",
       "    .dataframe tbody tr th:only-of-type {\n",
       "        vertical-align: middle;\n",
       "    }\n",
       "\n",
       "    .dataframe tbody tr th {\n",
       "        vertical-align: top;\n",
       "    }\n",
       "\n",
       "    .dataframe thead th {\n",
       "        text-align: right;\n",
       "    }\n",
       "</style>\n",
       "<table border=\"1\" class=\"dataframe\">\n",
       "  <thead>\n",
       "    <tr style=\"text-align: right;\">\n",
       "      <th></th>\n",
       "      <th>pixel0</th>\n",
       "      <th>pixel1</th>\n",
       "      <th>pixel2</th>\n",
       "      <th>pixel3</th>\n",
       "      <th>pixel4</th>\n",
       "      <th>pixel5</th>\n",
       "      <th>pixel6</th>\n",
       "      <th>pixel7</th>\n",
       "      <th>pixel8</th>\n",
       "      <th>pixel9</th>\n",
       "      <th>...</th>\n",
       "      <th>pixel774</th>\n",
       "      <th>pixel775</th>\n",
       "      <th>pixel776</th>\n",
       "      <th>pixel777</th>\n",
       "      <th>pixel778</th>\n",
       "      <th>pixel779</th>\n",
       "      <th>pixel780</th>\n",
       "      <th>pixel781</th>\n",
       "      <th>pixel782</th>\n",
       "      <th>pixel783</th>\n",
       "    </tr>\n",
       "  </thead>\n",
       "  <tbody>\n",
       "    <tr>\n",
       "      <th>0</th>\n",
       "      <td>0</td>\n",
       "      <td>0</td>\n",
       "      <td>0</td>\n",
       "      <td>0</td>\n",
       "      <td>0</td>\n",
       "      <td>0</td>\n",
       "      <td>0</td>\n",
       "      <td>0</td>\n",
       "      <td>0</td>\n",
       "      <td>0</td>\n",
       "      <td>...</td>\n",
       "      <td>0</td>\n",
       "      <td>0</td>\n",
       "      <td>0</td>\n",
       "      <td>0</td>\n",
       "      <td>0</td>\n",
       "      <td>0</td>\n",
       "      <td>0</td>\n",
       "      <td>0</td>\n",
       "      <td>0</td>\n",
       "      <td>0</td>\n",
       "    </tr>\n",
       "    <tr>\n",
       "      <th>1</th>\n",
       "      <td>0</td>\n",
       "      <td>0</td>\n",
       "      <td>0</td>\n",
       "      <td>0</td>\n",
       "      <td>0</td>\n",
       "      <td>0</td>\n",
       "      <td>0</td>\n",
       "      <td>0</td>\n",
       "      <td>0</td>\n",
       "      <td>0</td>\n",
       "      <td>...</td>\n",
       "      <td>0</td>\n",
       "      <td>0</td>\n",
       "      <td>0</td>\n",
       "      <td>0</td>\n",
       "      <td>0</td>\n",
       "      <td>0</td>\n",
       "      <td>0</td>\n",
       "      <td>0</td>\n",
       "      <td>0</td>\n",
       "      <td>0</td>\n",
       "    </tr>\n",
       "    <tr>\n",
       "      <th>2</th>\n",
       "      <td>0</td>\n",
       "      <td>0</td>\n",
       "      <td>0</td>\n",
       "      <td>0</td>\n",
       "      <td>0</td>\n",
       "      <td>0</td>\n",
       "      <td>0</td>\n",
       "      <td>0</td>\n",
       "      <td>0</td>\n",
       "      <td>0</td>\n",
       "      <td>...</td>\n",
       "      <td>0</td>\n",
       "      <td>0</td>\n",
       "      <td>0</td>\n",
       "      <td>0</td>\n",
       "      <td>0</td>\n",
       "      <td>0</td>\n",
       "      <td>0</td>\n",
       "      <td>0</td>\n",
       "      <td>0</td>\n",
       "      <td>0</td>\n",
       "    </tr>\n",
       "    <tr>\n",
       "      <th>3</th>\n",
       "      <td>0</td>\n",
       "      <td>0</td>\n",
       "      <td>0</td>\n",
       "      <td>0</td>\n",
       "      <td>0</td>\n",
       "      <td>0</td>\n",
       "      <td>0</td>\n",
       "      <td>0</td>\n",
       "      <td>0</td>\n",
       "      <td>0</td>\n",
       "      <td>...</td>\n",
       "      <td>0</td>\n",
       "      <td>0</td>\n",
       "      <td>0</td>\n",
       "      <td>0</td>\n",
       "      <td>0</td>\n",
       "      <td>0</td>\n",
       "      <td>0</td>\n",
       "      <td>0</td>\n",
       "      <td>0</td>\n",
       "      <td>0</td>\n",
       "    </tr>\n",
       "    <tr>\n",
       "      <th>4</th>\n",
       "      <td>0</td>\n",
       "      <td>0</td>\n",
       "      <td>0</td>\n",
       "      <td>0</td>\n",
       "      <td>0</td>\n",
       "      <td>0</td>\n",
       "      <td>0</td>\n",
       "      <td>0</td>\n",
       "      <td>0</td>\n",
       "      <td>0</td>\n",
       "      <td>...</td>\n",
       "      <td>0</td>\n",
       "      <td>0</td>\n",
       "      <td>0</td>\n",
       "      <td>0</td>\n",
       "      <td>0</td>\n",
       "      <td>0</td>\n",
       "      <td>0</td>\n",
       "      <td>0</td>\n",
       "      <td>0</td>\n",
       "      <td>0</td>\n",
       "    </tr>\n",
       "  </tbody>\n",
       "</table>\n",
       "<p>5 rows × 784 columns</p>\n",
       "</div>"
      ],
      "text/plain": [
       "   pixel0  pixel1  pixel2  pixel3  pixel4  pixel5  pixel6  pixel7  pixel8  \\\n",
       "0       0       0       0       0       0       0       0       0       0   \n",
       "1       0       0       0       0       0       0       0       0       0   \n",
       "2       0       0       0       0       0       0       0       0       0   \n",
       "3       0       0       0       0       0       0       0       0       0   \n",
       "4       0       0       0       0       0       0       0       0       0   \n",
       "\n",
       "   pixel9  ...  pixel774  pixel775  pixel776  pixel777  pixel778  pixel779  \\\n",
       "0       0  ...         0         0         0         0         0         0   \n",
       "1       0  ...         0         0         0         0         0         0   \n",
       "2       0  ...         0         0         0         0         0         0   \n",
       "3       0  ...         0         0         0         0         0         0   \n",
       "4       0  ...         0         0         0         0         0         0   \n",
       "\n",
       "   pixel780  pixel781  pixel782  pixel783  \n",
       "0         0         0         0         0  \n",
       "1         0         0         0         0  \n",
       "2         0         0         0         0  \n",
       "3         0         0         0         0  \n",
       "4         0         0         0         0  \n",
       "\n",
       "[5 rows x 784 columns]"
      ]
     },
     "execution_count": 3,
     "metadata": {},
     "output_type": "execute_result"
    }
   ],
   "source": [
    "# Read input test data\n",
    "\n",
    "test = pd.read_csv(\"input/test.csv\")\n",
    "print(test.shape)\n",
    "test.head()"
   ]
  },
  {
   "cell_type": "code",
   "execution_count": 4,
   "metadata": {},
   "outputs": [],
   "source": [
    "# Split train data and change types\n",
    "\n",
    "X_train = (train.iloc[:, 1:].values).astype('float32')\n",
    "y_train = train.iloc[:, 0].values.astype('int32')\n",
    "X_test = test.values.astype('float32')"
   ]
  },
  {
   "cell_type": "code",
   "execution_count": 5,
   "metadata": {},
   "outputs": [
    {
     "data": {
      "text/plain": [
       "array([[0., 0., 0., ..., 0., 0., 0.],\n",
       "       [0., 0., 0., ..., 0., 0., 0.],\n",
       "       [0., 0., 0., ..., 0., 0., 0.],\n",
       "       ...,\n",
       "       [0., 0., 0., ..., 0., 0., 0.],\n",
       "       [0., 0., 0., ..., 0., 0., 0.],\n",
       "       [0., 0., 0., ..., 0., 0., 0.]], dtype=float32)"
      ]
     },
     "execution_count": 5,
     "metadata": {},
     "output_type": "execute_result"
    }
   ],
   "source": [
    "X_train"
   ]
  },
  {
   "cell_type": "code",
   "execution_count": 6,
   "metadata": {},
   "outputs": [
    {
     "data": {
      "text/plain": [
       "array([1, 0, 1, ..., 7, 6, 9], dtype=int32)"
      ]
     },
     "execution_count": 6,
     "metadata": {},
     "output_type": "execute_result"
    }
   ],
   "source": [
    "y_train"
   ]
  },
  {
   "cell_type": "code",
   "execution_count": 7,
   "metadata": {},
   "outputs": [
    {
     "data": {
      "image/png": "[encoded data removed]",
      "text/plain": [
       "<Figure size 432x288 with 9 Axes>"
      ]
     },
     "metadata": {
      "needs_background": "light"
     },
     "output_type": "display_data"
    }
   ],
   "source": [
    "X_train = X_train.reshape(X_train.shape[0], 28, 28)\n",
    "\n",
    "for i in range(9):\n",
    "    plt.subplot(330 + (i + 1))\n",
    "    plt.imshow(X_train[i], cmap = plt.get_cmap('gray'))\n",
    "    plt.title(y_train[i]);"
   ]
  },
  {
   "cell_type": "code",
   "execution_count": 8,
   "metadata": {},
   "outputs": [
    {
     "data": {
      "text/plain": [
       "(42000, 28, 28, 1)"
      ]
     },
     "execution_count": 8,
     "metadata": {},
     "output_type": "execute_result"
    }
   ],
   "source": [
    "# Reshape train set\n",
    "\n",
    "X_train = X_train.reshape(X_train.shape[0], 28, 28, 1)\n",
    "X_train.shape"
   ]
  },
  {
   "cell_type": "code",
   "execution_count": 9,
   "metadata": {},
   "outputs": [
    {
     "data": {
      "text/plain": [
       "(28000, 28, 28, 1)"
      ]
     },
     "execution_count": 9,
     "metadata": {},
     "output_type": "execute_result"
    }
   ],
   "source": [
    "# Reshape test set\n",
    "\n",
    "X_test = X_test.reshape(X_test.shape[0], 28, 28, 1)\n",
    "X_test.shape"
   ]
  },
  {
   "cell_type": "code",
   "execution_count": 10,
   "metadata": {},
   "outputs": [],
   "source": [
    "# Standartize all values. It will be used as Lambda layer.\n",
    "\n",
    "mean_px = X_train.mean().astype(np.float32)\n",
    "std_px = X_train.std().astype(np.float32)\n",
    "\n",
    "def standardize(x): \n",
    "    return (x - mean_px) / std_px"
   ]
  },
  {
   "cell_type": "code",
   "execution_count": 11,
   "metadata": {},
   "outputs": [
    {
     "data": {
      "text/plain": [
       "10"
      ]
     },
     "execution_count": 11,
     "metadata": {},
     "output_type": "execute_result"
    }
   ],
   "source": [
    "# One hot encoding\n",
    "\n",
    "from keras.utils.np_utils import to_categorical\n",
    "y_train = to_categorical(y_train)\n",
    "num_classes = y_train.shape[1]\n",
    "num_classes"
   ]
  },
  {
   "cell_type": "code",
   "execution_count": 12,
   "metadata": {},
   "outputs": [],
   "source": [
    "# Fix random seed for reproducibility\n",
    "\n",
    "seed = 42\n",
    "np.random.seed(seed)"
   ]
  },
  {
   "cell_type": "code",
   "execution_count": 13,
   "metadata": {},
   "outputs": [],
   "source": [
    "from keras.models import  Sequential\n",
    "from keras.layers.core import  Lambda, Dense, Flatten, Dropout\n",
    "from keras.layers import BatchNormalization, Convolution2D, MaxPooling2D"
   ]
  },
  {
   "cell_type": "code",
   "execution_count": 30,
   "metadata": {},
   "outputs": [
    {
     "name": "stdout",
     "output_type": "stream",
     "text": [
      "Input shape  (None, 28, 28, 1)\n",
      "Output shape  (None, 10)\n"
     ]
    }
   ],
   "source": [
    "model = Sequential([\n",
    "        Lambda(standardize, input_shape = (28, 28, 1)),\n",
    "\n",
    "        Convolution2D(32, (3, 3), activation = 'selu'),\n",
    "\n",
    "        BatchNormalization(axis = 1),\n",
    "        Dropout(0.5),\n",
    "    \n",
    "        Convolution2D(32, (3, 3), activation = 'selu'),    \n",
    "        \n",
    "        MaxPooling2D(),\n",
    "        \n",
    "        BatchNormalization(axis = 1),\n",
    "        Dropout(0.5),\n",
    "        \n",
    "        Convolution2D(64, (3, 3), activation = 'selu'),\n",
    "        \n",
    "        BatchNormalization(axis = 1),\n",
    "        Dropout(0.5),\n",
    "    \n",
    "        Convolution2D(64, (3, 3), activation = 'selu'),    \n",
    "        \n",
    "        MaxPooling2D(),\n",
    "\n",
    "        Flatten(),\n",
    "        \n",
    "        BatchNormalization(),\n",
    "        \n",
    "        Dense(512, activation = 'selu'),\n",
    "        \n",
    "        BatchNormalization(),\n",
    "        \n",
    "        Dense(10, activation = 'softmax')\n",
    "        ])\n",
    "print(\"Input shape \", model.input_shape)\n",
    "print(\"Output shape \", model.output_shape)"
   ]
  },
  {
   "cell_type": "code",
   "execution_count": 31,
   "metadata": {},
   "outputs": [],
   "source": [
    "LR = 0.001\n",
    "BATCH_SIZE = 64\n",
    "EPOCHS = 100\n",
    "TEST_SIZE = 0.1"
   ]
  },
  {
   "cell_type": "code",
   "execution_count": 32,
   "metadata": {},
   "outputs": [],
   "source": [
    "from keras.optimizers import Adam\n",
    "model.compile(optimizer = Adam(lr = LR), loss = 'categorical_crossentropy', metrics=['accuracy'])"
   ]
  },
  {
   "cell_type": "code",
   "execution_count": 33,
   "metadata": {},
   "outputs": [],
   "source": [
    "from keras.preprocessing import image\n",
    "\n",
    "gen = image.ImageDataGenerator(rotation_range = 10,\n",
    "                               zoom_range = 0.15,\n",
    "                               width_shift_range = 0.15,\n",
    "                               height_shift_range = 0.15,\n",
    "                               shear_range = 0.15,\n",
    "                               rescale = 0.15)"
   ]
  },
  {
   "cell_type": "code",
   "execution_count": 34,
   "metadata": {},
   "outputs": [
    {
     "name": "stdout",
     "output_type": "stream",
     "text": [
      "8\n"
     ]
    }
   ],
   "source": [
    "TEST_IMG = 3\n",
    "print(np.argmax(y_train[TEST_IMG]))"
   ]
  },
  {
   "cell_type": "code",
   "execution_count": 35,
   "metadata": {},
   "outputs": [
    {
     "data": {
      "image/png": "[encoded data removed]",
      "text/plain": [
       "<Figure size 432x288 with 9 Axes>"
      ]
     },
     "metadata": {},
     "output_type": "display_data"
    }
   ],
   "source": [
    "from numpy import expand_dims\n",
    "from matplotlib import pyplot\n",
    "\n",
    "data = X_train[TEST_IMG]\n",
    "# expand dimension to one sample\n",
    "samples = expand_dims(data, 0)\n",
    "# prepare iterator\n",
    "it = gen.flow(samples, batch_size = 1)\n",
    "\n",
    "# generate samples and plot\n",
    "for i in range(9):\n",
    "    # define subplot\n",
    "    pyplot.subplot(330 + 1 + i)\n",
    "    # generate batch of images\n",
    "    batch = it.next()\n",
    "    # plot raw pixel data\n",
    "    pyplot.imshow(batch[0].astype('uint8'), cmap = plt.get_cmap('gray'))\n",
    "\n",
    "pyplot.show()"
   ]
  },
  {
   "cell_type": "code",
   "execution_count": 36,
   "metadata": {},
   "outputs": [],
   "source": [
    "from sklearn.model_selection import train_test_split\n",
    "X = X_train\n",
    "y = y_train\n",
    "X_train, X_val, y_train, y_val = train_test_split(X_train, y_train, test_size = TEST_SIZE, random_state = seed)\n",
    "batches = gen.flow(X_train, y_train, batch_size = BATCH_SIZE)\n",
    "val_batches = gen.flow(X_val, y_val, batch_size = BATCH_SIZE)"
   ]
  },
  {
   "cell_type": "code",
   "execution_count": 37,
   "metadata": {},
   "outputs": [
    {
     "name": "stdout",
     "output_type": "stream",
     "text": [
      "Epoch 1/100\n",
      "478/478 [==============================] - 6s 12ms/step - loss: 0.7393 - accuracy: 0.7670 - val_loss: 9.1520 - val_accuracy: 0.1229\n",
      "Epoch 2/100\n",
      "478/478 [==============================] - 5s 11ms/step - loss: 0.2338 - accuracy: 0.9273 - val_loss: 0.2964 - val_accuracy: 0.9060\n",
      "Epoch 3/100\n",
      "478/478 [==============================] - 5s 11ms/step - loss: 0.1649 - accuracy: 0.9479 - val_loss: 0.3723 - val_accuracy: 0.8788\n",
      "Epoch 4/100\n",
      "478/478 [==============================] - 5s 11ms/step - loss: 0.1352 - accuracy: 0.9577 - val_loss: 0.1067 - val_accuracy: 0.9670\n",
      "Epoch 5/100\n",
      "478/478 [==============================] - 5s 11ms/step - loss: 0.1187 - accuracy: 0.9632 - val_loss: 0.0780 - val_accuracy: 0.9767\n",
      "Epoch 6/100\n",
      "478/478 [==============================] - 5s 11ms/step - loss: 0.1045 - accuracy: 0.9684 - val_loss: 0.2041 - val_accuracy: 0.9387\n",
      "Epoch 7/100\n",
      "478/478 [==============================] - 5s 11ms/step - loss: 0.0983 - accuracy: 0.9703 - val_loss: 0.0736 - val_accuracy: 0.9782\n",
      "Epoch 8/100\n",
      "478/478 [==============================] - 5s 11ms/step - loss: 0.0925 - accuracy: 0.9708 - val_loss: 0.0691 - val_accuracy: 0.9800\n",
      "Epoch 9/100\n",
      "478/478 [==============================] - 5s 11ms/step - loss: 0.0881 - accuracy: 0.9727 - val_loss: 0.0558 - val_accuracy: 0.9829\n",
      "Epoch 10/100\n",
      "478/478 [==============================] - 5s 11ms/step - loss: 0.0851 - accuracy: 0.9741 - val_loss: 0.0561 - val_accuracy: 0.9856\n",
      "Epoch 11/100\n",
      "478/478 [==============================] - 5s 11ms/step - loss: 0.0806 - accuracy: 0.9757 - val_loss: 0.0480 - val_accuracy: 0.9856\n",
      "Epoch 12/100\n",
      "478/478 [==============================] - 5s 11ms/step - loss: 0.0768 - accuracy: 0.9773 - val_loss: 0.0564 - val_accuracy: 0.9847\n",
      "Epoch 13/100\n",
      "478/478 [==============================] - 5s 11ms/step - loss: 0.0745 - accuracy: 0.9782 - val_loss: 0.0426 - val_accuracy: 0.9879\n",
      "Epoch 14/100\n",
      "478/478 [==============================] - 5s 11ms/step - loss: 0.0767 - accuracy: 0.9771 - val_loss: 0.0470 - val_accuracy: 0.9864\n",
      "Epoch 15/100\n",
      "478/478 [==============================] - 6s 12ms/step - loss: 0.0725 - accuracy: 0.9788 - val_loss: 0.0655 - val_accuracy: 0.9811\n",
      "Epoch 16/100\n",
      "478/478 [==============================] - 5s 11ms/step - loss: 0.0691 - accuracy: 0.9785 - val_loss: 0.0664 - val_accuracy: 0.9817\n",
      "Epoch 17/100\n",
      "478/478 [==============================] - 6s 12ms/step - loss: 0.0665 - accuracy: 0.9799 - val_loss: 0.0386 - val_accuracy: 0.9882\n",
      "Epoch 18/100\n",
      "478/478 [==============================] - 5s 11ms/step - loss: 0.0667 - accuracy: 0.9795 - val_loss: 0.0442 - val_accuracy: 0.9858\n",
      "Epoch 19/100\n",
      "478/478 [==============================] - 5s 11ms/step - loss: 0.0653 - accuracy: 0.9794 - val_loss: 0.0469 - val_accuracy: 0.9853\n",
      "Epoch 20/100\n",
      "478/478 [==============================] - 5s 11ms/step - loss: 0.0655 - accuracy: 0.9800 - val_loss: 0.0476 - val_accuracy: 0.9835\n",
      "Epoch 21/100\n",
      "478/478 [==============================] - 5s 11ms/step - loss: 0.0604 - accuracy: 0.9814 - val_loss: 0.0419 - val_accuracy: 0.9882\n",
      "Epoch 22/100\n",
      "478/478 [==============================] - 5s 11ms/step - loss: 0.0580 - accuracy: 0.9824 - val_loss: 0.0408 - val_accuracy: 0.9897\n",
      "Epoch 23/100\n",
      "478/478 [==============================] - 5s 11ms/step - loss: 0.0595 - accuracy: 0.9820 - val_loss: 0.0344 - val_accuracy: 0.9891\n",
      "Epoch 24/100\n",
      "478/478 [==============================] - 5s 11ms/step - loss: 0.0622 - accuracy: 0.9822 - val_loss: 0.0369 - val_accuracy: 0.9885\n",
      "Epoch 25/100\n",
      "478/478 [==============================] - 5s 11ms/step - loss: 0.0605 - accuracy: 0.9826 - val_loss: 0.0309 - val_accuracy: 0.9906\n",
      "Epoch 26/100\n",
      "478/478 [==============================] - 5s 11ms/step - loss: 0.0560 - accuracy: 0.9835 - val_loss: 0.0342 - val_accuracy: 0.9909\n",
      "Epoch 27/100\n",
      "478/478 [==============================] - 5s 11ms/step - loss: 0.0576 - accuracy: 0.9830 - val_loss: 0.0357 - val_accuracy: 0.9897\n",
      "Epoch 28/100\n",
      "478/478 [==============================] - 5s 11ms/step - loss: 0.0550 - accuracy: 0.9835 - val_loss: 0.0462 - val_accuracy: 0.9867\n",
      "Epoch 29/100\n",
      "478/478 [==============================] - 5s 11ms/step - loss: 0.0564 - accuracy: 0.9832 - val_loss: 0.0437 - val_accuracy: 0.9841\n",
      "Epoch 30/100\n",
      "478/478 [==============================] - 5s 11ms/step - loss: 0.0589 - accuracy: 0.9828 - val_loss: 0.0319 - val_accuracy: 0.9903\n",
      "Epoch 31/100\n",
      "478/478 [==============================] - 5s 11ms/step - loss: 0.0508 - accuracy: 0.9847 - val_loss: 0.0330 - val_accuracy: 0.9906\n",
      "Epoch 32/100\n",
      "478/478 [==============================] - 6s 12ms/step - loss: 0.0565 - accuracy: 0.9830 - val_loss: 0.0375 - val_accuracy: 0.9903\n",
      "Epoch 33/100\n",
      "478/478 [==============================] - 6s 12ms/step - loss: 0.0553 - accuracy: 0.9835 - val_loss: 0.0307 - val_accuracy: 0.9906\n",
      "Epoch 34/100\n",
      "478/478 [==============================] - 5s 11ms/step - loss: 0.0511 - accuracy: 0.9850 - val_loss: 0.0653 - val_accuracy: 0.9805\n",
      "Epoch 35/100\n",
      "478/478 [==============================] - 5s 11ms/step - loss: 0.0536 - accuracy: 0.9842 - val_loss: 0.0387 - val_accuracy: 0.9903\n",
      "Epoch 36/100\n",
      "478/478 [==============================] - 5s 11ms/step - loss: 0.0550 - accuracy: 0.9832 - val_loss: 0.0364 - val_accuracy: 0.9897\n",
      "Epoch 37/100\n",
      "478/478 [==============================] - 5s 11ms/step - loss: 0.0516 - accuracy: 0.9845 - val_loss: 0.0340 - val_accuracy: 0.9906\n",
      "Epoch 38/100\n",
      "478/478 [==============================] - 5s 11ms/step - loss: 0.0508 - accuracy: 0.9851 - val_loss: 0.0416 - val_accuracy: 0.9882\n",
      "Epoch 39/100\n",
      "478/478 [==============================] - 5s 11ms/step - loss: 0.0526 - accuracy: 0.9840 - val_loss: 0.0365 - val_accuracy: 0.9885\n",
      "Epoch 40/100\n",
      "478/478 [==============================] - 5s 11ms/step - loss: 0.0512 - accuracy: 0.9852 - val_loss: 0.0360 - val_accuracy: 0.9897\n",
      "Epoch 41/100\n",
      "478/478 [==============================] - 5s 11ms/step - loss: 0.0496 - accuracy: 0.9844 - val_loss: 0.0352 - val_accuracy: 0.9891\n",
      "Epoch 42/100\n",
      "478/478 [==============================] - 5s 11ms/step - loss: 0.0479 - accuracy: 0.9858 - val_loss: 0.0312 - val_accuracy: 0.9915\n",
      "Epoch 43/100\n",
      "478/478 [==============================] - 5s 11ms/step - loss: 0.0477 - accuracy: 0.9864 - val_loss: 0.0317 - val_accuracy: 0.9917\n",
      "Epoch 44/100\n",
      "478/478 [==============================] - 5s 11ms/step - loss: 0.0503 - accuracy: 0.9853 - val_loss: 0.0346 - val_accuracy: 0.9906\n",
      "Epoch 45/100\n",
      "478/478 [==============================] - 5s 11ms/step - loss: 0.0502 - accuracy: 0.9848 - val_loss: 0.0288 - val_accuracy: 0.9909\n",
      "Epoch 46/100\n",
      "478/478 [==============================] - 5s 11ms/step - loss: 0.0485 - accuracy: 0.9865 - val_loss: 0.0397 - val_accuracy: 0.9903\n",
      "Epoch 47/100\n",
      "478/478 [==============================] - 5s 11ms/step - loss: 0.0494 - accuracy: 0.9854 - val_loss: 0.0280 - val_accuracy: 0.9912\n",
      "Epoch 48/100\n",
      "478/478 [==============================] - 6s 12ms/step - loss: 0.0484 - accuracy: 0.9854 - val_loss: 0.0364 - val_accuracy: 0.9900\n",
      "Epoch 49/100\n",
      "478/478 [==============================] - 5s 11ms/step - loss: 0.0445 - accuracy: 0.9873 - val_loss: 0.0333 - val_accuracy: 0.9894\n",
      "Epoch 50/100\n",
      "478/478 [==============================] - 5s 11ms/step - loss: 0.0490 - accuracy: 0.9861 - val_loss: 0.0347 - val_accuracy: 0.9894\n",
      "Epoch 51/100\n",
      "478/478 [==============================] - 5s 11ms/step - loss: 0.0485 - accuracy: 0.9859 - val_loss: 0.0339 - val_accuracy: 0.9897\n",
      "Epoch 52/100\n",
      "478/478 [==============================] - 6s 12ms/step - loss: 0.0493 - accuracy: 0.9861 - val_loss: 0.0331 - val_accuracy: 0.9909\n",
      "Epoch 53/100\n",
      "478/478 [==============================] - 6s 12ms/step - loss: 0.0456 - accuracy: 0.9868 - val_loss: 0.0273 - val_accuracy: 0.9929\n",
      "Epoch 54/100\n",
      "478/478 [==============================] - 5s 11ms/step - loss: 0.0460 - accuracy: 0.9870 - val_loss: 0.0273 - val_accuracy: 0.9920\n",
      "Epoch 55/100\n",
      "478/478 [==============================] - 5s 11ms/step - loss: 0.0443 - accuracy: 0.9872 - val_loss: 0.0241 - val_accuracy: 0.9941\n",
      "Epoch 56/100\n",
      "478/478 [==============================] - 6s 12ms/step - loss: 0.0446 - accuracy: 0.9866 - val_loss: 0.0261 - val_accuracy: 0.9912\n",
      "Epoch 57/100\n"
     ]
    },
    {
     "name": "stdout",
     "output_type": "stream",
     "text": [
      "478/478 [==============================] - 5s 11ms/step - loss: 0.0406 - accuracy: 0.9876 - val_loss: 0.0270 - val_accuracy: 0.9923\n",
      "Epoch 58/100\n",
      "478/478 [==============================] - 5s 11ms/step - loss: 0.0476 - accuracy: 0.9867 - val_loss: 0.0283 - val_accuracy: 0.9909\n",
      "Epoch 59/100\n",
      "478/478 [==============================] - 5s 11ms/step - loss: 0.0430 - accuracy: 0.9863 - val_loss: 0.0345 - val_accuracy: 0.9894\n",
      "Epoch 60/100\n",
      "478/478 [==============================] - 5s 11ms/step - loss: 0.0450 - accuracy: 0.9870 - val_loss: 0.0277 - val_accuracy: 0.9926\n",
      "Epoch 61/100\n",
      "478/478 [==============================] - 5s 11ms/step - loss: 0.0431 - accuracy: 0.9875 - val_loss: 0.0327 - val_accuracy: 0.9903\n",
      "Epoch 62/100\n",
      "478/478 [==============================] - 5s 11ms/step - loss: 0.0431 - accuracy: 0.9873 - val_loss: 0.0368 - val_accuracy: 0.9891\n",
      "Epoch 63/100\n",
      "478/478 [==============================] - 5s 11ms/step - loss: 0.0444 - accuracy: 0.9866 - val_loss: 0.0295 - val_accuracy: 0.9912\n",
      "Epoch 64/100\n",
      "478/478 [==============================] - 5s 11ms/step - loss: 0.0433 - accuracy: 0.9876 - val_loss: 0.0274 - val_accuracy: 0.9915\n",
      "Epoch 65/100\n",
      "478/478 [==============================] - 5s 11ms/step - loss: 0.0458 - accuracy: 0.9862 - val_loss: 0.0303 - val_accuracy: 0.9929\n",
      "Epoch 66/100\n",
      "478/478 [==============================] - 5s 11ms/step - loss: 0.0413 - accuracy: 0.9880 - val_loss: 0.0289 - val_accuracy: 0.9923\n",
      "Epoch 67/100\n",
      "478/478 [==============================] - 5s 11ms/step - loss: 0.0408 - accuracy: 0.9870 - val_loss: 0.0342 - val_accuracy: 0.9906\n",
      "Epoch 68/100\n",
      "478/478 [==============================] - 5s 11ms/step - loss: 0.0430 - accuracy: 0.9876 - val_loss: 0.0371 - val_accuracy: 0.9894\n",
      "Epoch 69/100\n",
      "478/478 [==============================] - 5s 11ms/step - loss: 0.0438 - accuracy: 0.9863 - val_loss: 0.0252 - val_accuracy: 0.9920\n",
      "Epoch 70/100\n",
      "478/478 [==============================] - 5s 11ms/step - loss: 0.0412 - accuracy: 0.9878 - val_loss: 0.0330 - val_accuracy: 0.9900\n",
      "Epoch 71/100\n",
      "478/478 [==============================] - 5s 11ms/step - loss: 0.0429 - accuracy: 0.9883 - val_loss: 0.0260 - val_accuracy: 0.9926\n",
      "Epoch 72/100\n",
      "478/478 [==============================] - 5s 11ms/step - loss: 0.0428 - accuracy: 0.9867 - val_loss: 0.0290 - val_accuracy: 0.9915\n",
      "Epoch 73/100\n",
      "478/478 [==============================] - 5s 11ms/step - loss: 0.0396 - accuracy: 0.9888 - val_loss: 0.0358 - val_accuracy: 0.9888\n",
      "Epoch 74/100\n",
      "478/478 [==============================] - 5s 11ms/step - loss: 0.0406 - accuracy: 0.9878 - val_loss: 0.0298 - val_accuracy: 0.9926\n",
      "Epoch 75/100\n",
      "478/478 [==============================] - 5s 11ms/step - loss: 0.0446 - accuracy: 0.9866 - val_loss: 0.0251 - val_accuracy: 0.9912\n",
      "Epoch 76/100\n",
      "478/478 [==============================] - 5s 11ms/step - loss: 0.0443 - accuracy: 0.9874 - val_loss: 0.0292 - val_accuracy: 0.9917\n",
      "Epoch 77/100\n",
      "478/478 [==============================] - 5s 11ms/step - loss: 0.0407 - accuracy: 0.9881 - val_loss: 0.0226 - val_accuracy: 0.9932\n",
      "Epoch 78/100\n",
      "478/478 [==============================] - 5s 11ms/step - loss: 0.0375 - accuracy: 0.9887 - val_loss: 0.0300 - val_accuracy: 0.9915\n",
      "Epoch 79/100\n",
      "478/478 [==============================] - 5s 11ms/step - loss: 0.0412 - accuracy: 0.9876 - val_loss: 0.0325 - val_accuracy: 0.9891\n",
      "Epoch 80/100\n",
      "478/478 [==============================] - 5s 11ms/step - loss: 0.0393 - accuracy: 0.9880 - val_loss: 0.0376 - val_accuracy: 0.9900\n",
      "Epoch 81/100\n",
      "478/478 [==============================] - 5s 11ms/step - loss: 0.0410 - accuracy: 0.9878 - val_loss: 0.0252 - val_accuracy: 0.9920\n",
      "Epoch 82/100\n",
      "478/478 [==============================] - 5s 11ms/step - loss: 0.0440 - accuracy: 0.9876 - val_loss: 0.0245 - val_accuracy: 0.9938\n",
      "Epoch 83/100\n",
      "478/478 [==============================] - 6s 12ms/step - loss: 0.0393 - accuracy: 0.9883 - val_loss: 0.0297 - val_accuracy: 0.9906\n",
      "Epoch 84/100\n",
      "478/478 [==============================] - 5s 11ms/step - loss: 0.0413 - accuracy: 0.9882 - val_loss: 0.0269 - val_accuracy: 0.9941\n",
      "Epoch 85/100\n",
      "478/478 [==============================] - 5s 11ms/step - loss: 0.0400 - accuracy: 0.9874 - val_loss: 0.0226 - val_accuracy: 0.9944\n",
      "Epoch 86/100\n",
      "478/478 [==============================] - 5s 11ms/step - loss: 0.0420 - accuracy: 0.9875 - val_loss: 0.0236 - val_accuracy: 0.9915\n",
      "Epoch 87/100\n",
      "478/478 [==============================] - 5s 11ms/step - loss: 0.0401 - accuracy: 0.9883 - val_loss: 0.0284 - val_accuracy: 0.9932\n",
      "Epoch 88/100\n",
      "478/478 [==============================] - 5s 11ms/step - loss: 0.0368 - accuracy: 0.9887 - val_loss: 0.0292 - val_accuracy: 0.9917\n",
      "Epoch 89/100\n",
      "478/478 [==============================] - 5s 11ms/step - loss: 0.0384 - accuracy: 0.9886 - val_loss: 0.0322 - val_accuracy: 0.9915\n",
      "Epoch 90/100\n",
      "478/478 [==============================] - 5s 11ms/step - loss: 0.0405 - accuracy: 0.9878 - val_loss: 0.0228 - val_accuracy: 0.9935\n",
      "Epoch 91/100\n",
      "478/478 [==============================] - 5s 11ms/step - loss: 0.0380 - accuracy: 0.9887 - val_loss: 0.0262 - val_accuracy: 0.9906\n",
      "Epoch 92/100\n",
      "478/478 [==============================] - 6s 12ms/step - loss: 0.0401 - accuracy: 0.9890 - val_loss: 0.0300 - val_accuracy: 0.9912\n",
      "Epoch 93/100\n",
      "478/478 [==============================] - 5s 11ms/step - loss: 0.0384 - accuracy: 0.9890 - val_loss: 0.0295 - val_accuracy: 0.9912\n",
      "Epoch 94/100\n",
      "478/478 [==============================] - 5s 11ms/step - loss: 0.0378 - accuracy: 0.9891 - val_loss: 0.0279 - val_accuracy: 0.9926\n",
      "Epoch 95/100\n",
      "478/478 [==============================] - 5s 11ms/step - loss: 0.0395 - accuracy: 0.9884 - val_loss: 0.0335 - val_accuracy: 0.9909\n",
      "Epoch 96/100\n",
      "478/478 [==============================] - 5s 11ms/step - loss: 0.0390 - accuracy: 0.9884 - val_loss: 0.0178 - val_accuracy: 0.9959\n",
      "Epoch 97/100\n",
      "478/478 [==============================] - 5s 11ms/step - loss: 0.0392 - accuracy: 0.9885 - val_loss: 0.0266 - val_accuracy: 0.9920\n",
      "Epoch 98/100\n",
      "478/478 [==============================] - 6s 12ms/step - loss: 0.0403 - accuracy: 0.9884 - val_loss: 0.0247 - val_accuracy: 0.9926\n",
      "Epoch 99/100\n",
      "478/478 [==============================] - 5s 11ms/step - loss: 0.0349 - accuracy: 0.9894 - val_loss: 0.0306 - val_accuracy: 0.9915\n",
      "Epoch 100/100\n",
      "478/478 [==============================] - 5s 11ms/step - loss: 0.0378 - accuracy: 0.9898 - val_loss: 0.0218 - val_accuracy: 0.9926\n"
     ]
    }
   ],
   "source": [
    "history = model.fit(batches,\n",
    "                    steps_per_epoch = np.floor(batches.n / BATCH_SIZE),\n",
    "                    epochs = EPOCHS,\n",
    "                    validation_data = val_batches,\n",
    "                    validation_steps = np.floor(val_batches.n / BATCH_SIZE))"
   ]
  },
  {
   "cell_type": "code",
   "execution_count": 38,
   "metadata": {},
   "outputs": [
    {
     "data": {
      "text/plain": [
       "(0.0, 1.0)"
      ]
     },
     "execution_count": 38,
     "metadata": {},
     "output_type": "execute_result"
    },
    {
     "data": {
      "image/png": "[encoded data removed]",
      "text/plain": [
       "<Figure size 432x288 with 1 Axes>"
      ]
     },
     "metadata": {},
     "output_type": "display_data"
    }
   ],
   "source": [
    "import matplotlib.pyplot as plt\n",
    "%matplotlib inline\n",
    "\n",
    "history_dict = history.history\n",
    "N = np.arange(0, EPOCHS)\n",
    "plt.style.use('ggplot')\n",
    "plt.figure()\n",
    "plt.plot(N, history_dict['loss'], label = 'train_loss')\n",
    "plt.plot(N, history_dict['val_loss'], label = 'val_loss')\n",
    "plt.plot(N, history_dict['accuracy'], label = 'train_acc')\n",
    "plt.plot(N, history_dict['val_accuracy'], label = 'val_acc')\n",
    "plt.title('Training Loss and Accuracy on Dataset')\n",
    "plt.xlabel('Epoch #')\n",
    "plt.ylabel('Loss/Accuracy')\n",
    "plt.legend(loc = 'center right')\n",
    "plt.ylim((0.0, 1.0))"
   ]
  },
  {
   "cell_type": "code",
   "execution_count": 39,
   "metadata": {},
   "outputs": [],
   "source": [
    "predictions = np.argmax(model.predict(X_test), axis = -1)\n",
    "\n",
    "submissions = pd.DataFrame({\"ImageId\": list(range(1, len(predictions) + 1)),\n",
    "                            \"Label\": predictions})\n",
    "\n",
    "submissions.to_csv(\"prediction.csv\", index = False, header = True)"
   ]
  }
 ],
 "metadata": {
  "kernelspec": {
   "display_name": "Python 3",
   "language": "python",
   "name": "python3"
  },
  "language_info": {
   "codemirror_mode": {
    "name": "ipython",
    "version": 3
   },
   "file_extension": ".py",
   "mimetype": "text/x-python",
   "name": "python",
   "nbconvert_exporter": "python",
   "pygments_lexer": "ipython3",
   "version": "3.8.5"
  }
 },
 "nbformat": 4,
 "nbformat_minor": 4
}
