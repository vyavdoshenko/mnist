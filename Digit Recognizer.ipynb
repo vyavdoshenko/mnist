{
 "cells": [
  {
   "cell_type": "code",
   "execution_count": 1,
   "metadata": {},
   "outputs": [],
   "source": [
    "# Import all necessary packages\n",
    "import numpy as np\n",
    "import pandas as pd\n",
    "\n",
    "import matplotlib.pyplot as plt\n",
    "%matplotlib inline"
   ]
  },
  {
   "cell_type": "code",
   "execution_count": 2,
   "metadata": {},
   "outputs": [
    {
     "name": "stdout",
     "output_type": "stream",
     "text": [
      "(42000, 785)\n"
     ]
    },
    {
     "data": {
      "text/html": [
       "<div>\n",
       "<style scoped>\n",
       "    .dataframe tbody tr th:only-of-type {\n",
       "        vertical-align: middle;\n",
       "    }\n",
       "\n",
       "    .dataframe tbody tr th {\n",
       "        vertical-align: top;\n",
       "    }\n",
       "\n",
       "    .dataframe thead th {\n",
       "        text-align: right;\n",
       "    }\n",
       "</style>\n",
       "<table border=\"1\" class=\"dataframe\">\n",
       "  <thead>\n",
       "    <tr style=\"text-align: right;\">\n",
       "      <th></th>\n",
       "      <th>label</th>\n",
       "      <th>pixel0</th>\n",
       "      <th>pixel1</th>\n",
       "      <th>pixel2</th>\n",
       "      <th>pixel3</th>\n",
       "      <th>pixel4</th>\n",
       "      <th>pixel5</th>\n",
       "      <th>pixel6</th>\n",
       "      <th>pixel7</th>\n",
       "      <th>pixel8</th>\n",
       "      <th>...</th>\n",
       "      <th>pixel774</th>\n",
       "      <th>pixel775</th>\n",
       "      <th>pixel776</th>\n",
       "      <th>pixel777</th>\n",
       "      <th>pixel778</th>\n",
       "      <th>pixel779</th>\n",
       "      <th>pixel780</th>\n",
       "      <th>pixel781</th>\n",
       "      <th>pixel782</th>\n",
       "      <th>pixel783</th>\n",
       "    </tr>\n",
       "  </thead>\n",
       "  <tbody>\n",
       "    <tr>\n",
       "      <th>0</th>\n",
       "      <td>1</td>\n",
       "      <td>0</td>\n",
       "      <td>0</td>\n",
       "      <td>0</td>\n",
       "      <td>0</td>\n",
       "      <td>0</td>\n",
       "      <td>0</td>\n",
       "      <td>0</td>\n",
       "      <td>0</td>\n",
       "      <td>0</td>\n",
       "      <td>...</td>\n",
       "      <td>0</td>\n",
       "      <td>0</td>\n",
       "      <td>0</td>\n",
       "      <td>0</td>\n",
       "      <td>0</td>\n",
       "      <td>0</td>\n",
       "      <td>0</td>\n",
       "      <td>0</td>\n",
       "      <td>0</td>\n",
       "      <td>0</td>\n",
       "    </tr>\n",
       "    <tr>\n",
       "      <th>1</th>\n",
       "      <td>0</td>\n",
       "      <td>0</td>\n",
       "      <td>0</td>\n",
       "      <td>0</td>\n",
       "      <td>0</td>\n",
       "      <td>0</td>\n",
       "      <td>0</td>\n",
       "      <td>0</td>\n",
       "      <td>0</td>\n",
       "      <td>0</td>\n",
       "      <td>...</td>\n",
       "      <td>0</td>\n",
       "      <td>0</td>\n",
       "      <td>0</td>\n",
       "      <td>0</td>\n",
       "      <td>0</td>\n",
       "      <td>0</td>\n",
       "      <td>0</td>\n",
       "      <td>0</td>\n",
       "      <td>0</td>\n",
       "      <td>0</td>\n",
       "    </tr>\n",
       "    <tr>\n",
       "      <th>2</th>\n",
       "      <td>1</td>\n",
       "      <td>0</td>\n",
       "      <td>0</td>\n",
       "      <td>0</td>\n",
       "      <td>0</td>\n",
       "      <td>0</td>\n",
       "      <td>0</td>\n",
       "      <td>0</td>\n",
       "      <td>0</td>\n",
       "      <td>0</td>\n",
       "      <td>...</td>\n",
       "      <td>0</td>\n",
       "      <td>0</td>\n",
       "      <td>0</td>\n",
       "      <td>0</td>\n",
       "      <td>0</td>\n",
       "      <td>0</td>\n",
       "      <td>0</td>\n",
       "      <td>0</td>\n",
       "      <td>0</td>\n",
       "      <td>0</td>\n",
       "    </tr>\n",
       "    <tr>\n",
       "      <th>3</th>\n",
       "      <td>4</td>\n",
       "      <td>0</td>\n",
       "      <td>0</td>\n",
       "      <td>0</td>\n",
       "      <td>0</td>\n",
       "      <td>0</td>\n",
       "      <td>0</td>\n",
       "      <td>0</td>\n",
       "      <td>0</td>\n",
       "      <td>0</td>\n",
       "      <td>...</td>\n",
       "      <td>0</td>\n",
       "      <td>0</td>\n",
       "      <td>0</td>\n",
       "      <td>0</td>\n",
       "      <td>0</td>\n",
       "      <td>0</td>\n",
       "      <td>0</td>\n",
       "      <td>0</td>\n",
       "      <td>0</td>\n",
       "      <td>0</td>\n",
       "    </tr>\n",
       "    <tr>\n",
       "      <th>4</th>\n",
       "      <td>0</td>\n",
       "      <td>0</td>\n",
       "      <td>0</td>\n",
       "      <td>0</td>\n",
       "      <td>0</td>\n",
       "      <td>0</td>\n",
       "      <td>0</td>\n",
       "      <td>0</td>\n",
       "      <td>0</td>\n",
       "      <td>0</td>\n",
       "      <td>...</td>\n",
       "      <td>0</td>\n",
       "      <td>0</td>\n",
       "      <td>0</td>\n",
       "      <td>0</td>\n",
       "      <td>0</td>\n",
       "      <td>0</td>\n",
       "      <td>0</td>\n",
       "      <td>0</td>\n",
       "      <td>0</td>\n",
       "      <td>0</td>\n",
       "    </tr>\n",
       "  </tbody>\n",
       "</table>\n",
       "<p>5 rows × 785 columns</p>\n",
       "</div>"
      ],
      "text/plain": [
       "   label  pixel0  pixel1  pixel2  pixel3  pixel4  pixel5  pixel6  pixel7  \\\n",
       "0      1       0       0       0       0       0       0       0       0   \n",
       "1      0       0       0       0       0       0       0       0       0   \n",
       "2      1       0       0       0       0       0       0       0       0   \n",
       "3      4       0       0       0       0       0       0       0       0   \n",
       "4      0       0       0       0       0       0       0       0       0   \n",
       "\n",
       "   pixel8  ...  pixel774  pixel775  pixel776  pixel777  pixel778  pixel779  \\\n",
       "0       0  ...         0         0         0         0         0         0   \n",
       "1       0  ...         0         0         0         0         0         0   \n",
       "2       0  ...         0         0         0         0         0         0   \n",
       "3       0  ...         0         0         0         0         0         0   \n",
       "4       0  ...         0         0         0         0         0         0   \n",
       "\n",
       "   pixel780  pixel781  pixel782  pixel783  \n",
       "0         0         0         0         0  \n",
       "1         0         0         0         0  \n",
       "2         0         0         0         0  \n",
       "3         0         0         0         0  \n",
       "4         0         0         0         0  \n",
       "\n",
       "[5 rows x 785 columns]"
      ]
     },
     "execution_count": 2,
     "metadata": {},
     "output_type": "execute_result"
    }
   ],
   "source": [
    "# Read input train data\n",
    "\n",
    "train = pd.read_csv(\"input/train.csv\")\n",
    "print(train.shape)\n",
    "train.head()"
   ]
  },
  {
   "cell_type": "code",
   "execution_count": 3,
   "metadata": {},
   "outputs": [
    {
     "name": "stdout",
     "output_type": "stream",
     "text": [
      "(28000, 784)\n"
     ]
    },
    {
     "data": {
      "text/html": [
       "<div>\n",
       "<style scoped>\n",
       "    .dataframe tbody tr th:only-of-type {\n",
       "        vertical-align: middle;\n",
       "    }\n",
       "\n",
       "    .dataframe tbody tr th {\n",
       "        vertical-align: top;\n",
       "    }\n",
       "\n",
       "    .dataframe thead th {\n",
       "        text-align: right;\n",
       "    }\n",
       "</style>\n",
       "<table border=\"1\" class=\"dataframe\">\n",
       "  <thead>\n",
       "    <tr style=\"text-align: right;\">\n",
       "      <th></th>\n",
       "      <th>pixel0</th>\n",
       "      <th>pixel1</th>\n",
       "      <th>pixel2</th>\n",
       "      <th>pixel3</th>\n",
       "      <th>pixel4</th>\n",
       "      <th>pixel5</th>\n",
       "      <th>pixel6</th>\n",
       "      <th>pixel7</th>\n",
       "      <th>pixel8</th>\n",
       "      <th>pixel9</th>\n",
       "      <th>...</th>\n",
       "      <th>pixel774</th>\n",
       "      <th>pixel775</th>\n",
       "      <th>pixel776</th>\n",
       "      <th>pixel777</th>\n",
       "      <th>pixel778</th>\n",
       "      <th>pixel779</th>\n",
       "      <th>pixel780</th>\n",
       "      <th>pixel781</th>\n",
       "      <th>pixel782</th>\n",
       "      <th>pixel783</th>\n",
       "    </tr>\n",
       "  </thead>\n",
       "  <tbody>\n",
       "    <tr>\n",
       "      <th>0</th>\n",
       "      <td>0</td>\n",
       "      <td>0</td>\n",
       "      <td>0</td>\n",
       "      <td>0</td>\n",
       "      <td>0</td>\n",
       "      <td>0</td>\n",
       "      <td>0</td>\n",
       "      <td>0</td>\n",
       "      <td>0</td>\n",
       "      <td>0</td>\n",
       "      <td>...</td>\n",
       "      <td>0</td>\n",
       "      <td>0</td>\n",
       "      <td>0</td>\n",
       "      <td>0</td>\n",
       "      <td>0</td>\n",
       "      <td>0</td>\n",
       "      <td>0</td>\n",
       "      <td>0</td>\n",
       "      <td>0</td>\n",
       "      <td>0</td>\n",
       "    </tr>\n",
       "    <tr>\n",
       "      <th>1</th>\n",
       "      <td>0</td>\n",
       "      <td>0</td>\n",
       "      <td>0</td>\n",
       "      <td>0</td>\n",
       "      <td>0</td>\n",
       "      <td>0</td>\n",
       "      <td>0</td>\n",
       "      <td>0</td>\n",
       "      <td>0</td>\n",
       "      <td>0</td>\n",
       "      <td>...</td>\n",
       "      <td>0</td>\n",
       "      <td>0</td>\n",
       "      <td>0</td>\n",
       "      <td>0</td>\n",
       "      <td>0</td>\n",
       "      <td>0</td>\n",
       "      <td>0</td>\n",
       "      <td>0</td>\n",
       "      <td>0</td>\n",
       "      <td>0</td>\n",
       "    </tr>\n",
       "    <tr>\n",
       "      <th>2</th>\n",
       "      <td>0</td>\n",
       "      <td>0</td>\n",
       "      <td>0</td>\n",
       "      <td>0</td>\n",
       "      <td>0</td>\n",
       "      <td>0</td>\n",
       "      <td>0</td>\n",
       "      <td>0</td>\n",
       "      <td>0</td>\n",
       "      <td>0</td>\n",
       "      <td>...</td>\n",
       "      <td>0</td>\n",
       "      <td>0</td>\n",
       "      <td>0</td>\n",
       "      <td>0</td>\n",
       "      <td>0</td>\n",
       "      <td>0</td>\n",
       "      <td>0</td>\n",
       "      <td>0</td>\n",
       "      <td>0</td>\n",
       "      <td>0</td>\n",
       "    </tr>\n",
       "    <tr>\n",
       "      <th>3</th>\n",
       "      <td>0</td>\n",
       "      <td>0</td>\n",
       "      <td>0</td>\n",
       "      <td>0</td>\n",
       "      <td>0</td>\n",
       "      <td>0</td>\n",
       "      <td>0</td>\n",
       "      <td>0</td>\n",
       "      <td>0</td>\n",
       "      <td>0</td>\n",
       "      <td>...</td>\n",
       "      <td>0</td>\n",
       "      <td>0</td>\n",
       "      <td>0</td>\n",
       "      <td>0</td>\n",
       "      <td>0</td>\n",
       "      <td>0</td>\n",
       "      <td>0</td>\n",
       "      <td>0</td>\n",
       "      <td>0</td>\n",
       "      <td>0</td>\n",
       "    </tr>\n",
       "    <tr>\n",
       "      <th>4</th>\n",
       "      <td>0</td>\n",
       "      <td>0</td>\n",
       "      <td>0</td>\n",
       "      <td>0</td>\n",
       "      <td>0</td>\n",
       "      <td>0</td>\n",
       "      <td>0</td>\n",
       "      <td>0</td>\n",
       "      <td>0</td>\n",
       "      <td>0</td>\n",
       "      <td>...</td>\n",
       "      <td>0</td>\n",
       "      <td>0</td>\n",
       "      <td>0</td>\n",
       "      <td>0</td>\n",
       "      <td>0</td>\n",
       "      <td>0</td>\n",
       "      <td>0</td>\n",
       "      <td>0</td>\n",
       "      <td>0</td>\n",
       "      <td>0</td>\n",
       "    </tr>\n",
       "  </tbody>\n",
       "</table>\n",
       "<p>5 rows × 784 columns</p>\n",
       "</div>"
      ],
      "text/plain": [
       "   pixel0  pixel1  pixel2  pixel3  pixel4  pixel5  pixel6  pixel7  pixel8  \\\n",
       "0       0       0       0       0       0       0       0       0       0   \n",
       "1       0       0       0       0       0       0       0       0       0   \n",
       "2       0       0       0       0       0       0       0       0       0   \n",
       "3       0       0       0       0       0       0       0       0       0   \n",
       "4       0       0       0       0       0       0       0       0       0   \n",
       "\n",
       "   pixel9  ...  pixel774  pixel775  pixel776  pixel777  pixel778  pixel779  \\\n",
       "0       0  ...         0         0         0         0         0         0   \n",
       "1       0  ...         0         0         0         0         0         0   \n",
       "2       0  ...         0         0         0         0         0         0   \n",
       "3       0  ...         0         0         0         0         0         0   \n",
       "4       0  ...         0         0         0         0         0         0   \n",
       "\n",
       "   pixel780  pixel781  pixel782  pixel783  \n",
       "0         0         0         0         0  \n",
       "1         0         0         0         0  \n",
       "2         0         0         0         0  \n",
       "3         0         0         0         0  \n",
       "4         0         0         0         0  \n",
       "\n",
       "[5 rows x 784 columns]"
      ]
     },
     "execution_count": 3,
     "metadata": {},
     "output_type": "execute_result"
    }
   ],
   "source": [
    "# Read input test data\n",
    "\n",
    "test = pd.read_csv(\"input/test.csv\")\n",
    "print(test.shape)\n",
    "test.head()"
   ]
  },
  {
   "cell_type": "code",
   "execution_count": 4,
   "metadata": {},
   "outputs": [],
   "source": [
    "# Split train data and change types\n",
    "\n",
    "X_train = (train.iloc[:, 1:].values).astype('float32')\n",
    "y_train = train.iloc[:, 0].values.astype('int32')\n",
    "X_test = test.values.astype('float32')"
   ]
  },
  {
   "cell_type": "code",
   "execution_count": 5,
   "metadata": {},
   "outputs": [
    {
     "data": {
      "text/plain": [
       "array([[0., 0., 0., ..., 0., 0., 0.],\n",
       "       [0., 0., 0., ..., 0., 0., 0.],\n",
       "       [0., 0., 0., ..., 0., 0., 0.],\n",
       "       ...,\n",
       "       [0., 0., 0., ..., 0., 0., 0.],\n",
       "       [0., 0., 0., ..., 0., 0., 0.],\n",
       "       [0., 0., 0., ..., 0., 0., 0.]], dtype=float32)"
      ]
     },
     "execution_count": 5,
     "metadata": {},
     "output_type": "execute_result"
    }
   ],
   "source": [
    "X_train"
   ]
  },
  {
   "cell_type": "code",
   "execution_count": 6,
   "metadata": {},
   "outputs": [
    {
     "data": {
      "text/plain": [
       "array([1, 0, 1, ..., 7, 6, 9], dtype=int32)"
      ]
     },
     "execution_count": 6,
     "metadata": {},
     "output_type": "execute_result"
    }
   ],
   "source": [
    "y_train"
   ]
  },
  {
   "cell_type": "code",
   "execution_count": 7,
   "metadata": {},
   "outputs": [
    {
     "data": {
      "image/png": "[encoded data removed]",
      "text/plain": [
       "<Figure size 432x288 with 9 Axes>"
      ]
     },
     "metadata": {
      "needs_background": "light"
     },
     "output_type": "display_data"
    }
   ],
   "source": [
    "X_train = X_train.reshape(X_train.shape[0], 28, 28)\n",
    "\n",
    "for i in range(0, 9):\n",
    "    plt.subplot(330 + (i + 1))\n",
    "    plt.imshow(X_train[i], cmap=plt.get_cmap('gray'))\n",
    "    plt.title(y_train[i]);"
   ]
  },
  {
   "cell_type": "code",
   "execution_count": 8,
   "metadata": {},
   "outputs": [
    {
     "data": {
      "text/plain": [
       "(42000, 28, 28, 1)"
      ]
     },
     "execution_count": 8,
     "metadata": {},
     "output_type": "execute_result"
    }
   ],
   "source": [
    "# Reshape train set\n",
    "\n",
    "X_train = X_train.reshape(X_train.shape[0], 28, 28, 1)\n",
    "X_train.shape"
   ]
  },
  {
   "cell_type": "code",
   "execution_count": 9,
   "metadata": {},
   "outputs": [
    {
     "data": {
      "text/plain": [
       "(28000, 28, 28, 1)"
      ]
     },
     "execution_count": 9,
     "metadata": {},
     "output_type": "execute_result"
    }
   ],
   "source": [
    "# Reshape test set\n",
    "\n",
    "X_test = X_test.reshape(X_test.shape[0], 28, 28, 1)\n",
    "X_test.shape"
   ]
  },
  {
   "cell_type": "code",
   "execution_count": 10,
   "metadata": {},
   "outputs": [],
   "source": [
    "# Standartize all values. It will be used as Lambda layer.\n",
    "\n",
    "mean_px = X_train.mean().astype(np.float32)\n",
    "std_px = X_train.std().astype(np.float32)\n",
    "\n",
    "def standardize(x): \n",
    "    return (x - mean_px) / std_px"
   ]
  },
  {
   "cell_type": "code",
   "execution_count": 11,
   "metadata": {},
   "outputs": [
    {
     "data": {
      "text/plain": [
       "10"
      ]
     },
     "execution_count": 11,
     "metadata": {},
     "output_type": "execute_result"
    }
   ],
   "source": [
    "# One hot encoding\n",
    "\n",
    "from keras.utils.np_utils import to_categorical\n",
    "y_train = to_categorical(y_train)\n",
    "num_classes = y_train.shape[1]\n",
    "num_classes"
   ]
  },
  {
   "cell_type": "code",
   "execution_count": 12,
   "metadata": {},
   "outputs": [],
   "source": [
    "# Fix random seed for reproducibility\n",
    "\n",
    "seed = 42\n",
    "np.random.seed(seed)"
   ]
  },
  {
   "cell_type": "code",
   "execution_count": 13,
   "metadata": {},
   "outputs": [],
   "source": [
    "from keras.models import  Sequential\n",
    "from keras.layers.core import  Lambda, Dense, Flatten, Dropout\n",
    "from keras.callbacks import EarlyStopping\n",
    "from keras.layers import BatchNormalization, Convolution2D, MaxPooling2D"
   ]
  },
  {
   "cell_type": "code",
   "execution_count": 14,
   "metadata": {},
   "outputs": [
    {
     "name": "stdout",
     "output_type": "stream",
     "text": [
      "Input shape  (None, 28, 28, 1)\n",
      "Output shape  (None, 10)\n"
     ]
    }
   ],
   "source": [
    "model = Sequential([\n",
    "        Lambda(standardize, input_shape=(28,28,1)),\n",
    "        \n",
    "        Convolution2D(32, (3, 3), activation='relu'),\n",
    "        BatchNormalization(axis = 1),\n",
    "        Dropout(0.5),\n",
    "        \n",
    "        Convolution2D(32, (3, 3), activation='relu'),\n",
    "        \n",
    "        MaxPooling2D(),\n",
    "        BatchNormalization(axis = 1),\n",
    "        Dropout(0.5),\n",
    "        \n",
    "        Convolution2D(64, (3, 3), activation='relu'),\n",
    "        BatchNormalization(axis = 1),\n",
    "        Dropout(0.5),\n",
    "        \n",
    "        Convolution2D(64, (3, 3), activation='relu'),\n",
    "        MaxPooling2D(),\n",
    "    \n",
    "        Flatten(),\n",
    "        BatchNormalization(),\n",
    "        Dense(512, activation='relu'),\n",
    "        BatchNormalization(),\n",
    "        Dense(10, activation='softmax')\n",
    "        ])\n",
    "print(\"Input shape \", model.input_shape)\n",
    "print(\"Output shape \", model.output_shape)"
   ]
  },
  {
   "cell_type": "code",
   "execution_count": 15,
   "metadata": {},
   "outputs": [],
   "source": [
    "LR = 0.001\n",
    "BATCH_SIZE = 64\n",
    "EPOCHS = 100"
   ]
  },
  {
   "cell_type": "code",
   "execution_count": 16,
   "metadata": {},
   "outputs": [],
   "source": [
    "from keras.optimizers import RMSprop\n",
    "model.compile(optimizer = RMSprop(lr = LR), loss = 'categorical_crossentropy', metrics=['accuracy'])"
   ]
  },
  {
   "cell_type": "code",
   "execution_count": 17,
   "metadata": {},
   "outputs": [],
   "source": [
    "from keras.preprocessing import image\n",
    "# gen = image.ImageDataGenerator()\n",
    "\n",
    "gen = image.ImageDataGenerator(rotation_range = 8,\n",
    "                               width_shift_range = 0.08,\n",
    "                               shear_range = 0.3,\n",
    "                               height_shift_range = 0.08,\n",
    "                               zoom_range = 0.08)\n",
    "\n",
    "# gen = image.ImageDataGenerator(rotation_range = 30,\n",
    "#                                zoom_range = 0.15,\n",
    "#                                width_shift_range = 0.2,\n",
    "#                                height_shift_range = 0.2,\n",
    "#                                shear_range = 0.15,\n",
    "#                                horizontal_flip = True,\n",
    "#                                fill_mode = \"nearest\")"
   ]
  },
  {
   "cell_type": "code",
   "execution_count": 18,
   "metadata": {},
   "outputs": [],
   "source": [
    "from sklearn.model_selection import train_test_split\n",
    "X = X_train\n",
    "y = y_train\n",
    "X_train, X_val, y_train, y_val = train_test_split(X_train, y_train, test_size = 0.10, random_state = seed)\n",
    "batches = gen.flow(X_train, y_train, batch_size = BATCH_SIZE)\n",
    "val_batches = gen.flow(X_val, y_val, batch_size = BATCH_SIZE)"
   ]
  },
  {
   "cell_type": "code",
   "execution_count": 19,
   "metadata": {},
   "outputs": [
    {
     "name": "stdout",
     "output_type": "stream",
     "text": [
      "WARNING:tensorflow:From <ipython-input-19-67caf67d47a9>:1: Model.fit_generator (from tensorflow.python.keras.engine.training) is deprecated and will be removed in a future version.\n",
      "Instructions for updating:\n",
      "Please use Model.fit, which supports generators.\n",
      "Epoch 1/100\n",
      "590/590 [==============================] - 7s 11ms/step - loss: 0.3493 - accuracy: 0.8897 - val_loss: 0.1235 - val_accuracy: 0.9608\n",
      "Epoch 2/100\n",
      "590/590 [==============================] - 7s 11ms/step - loss: 0.1156 - accuracy: 0.9641 - val_loss: 0.0514 - val_accuracy: 0.9837\n",
      "Epoch 3/100\n",
      "590/590 [==============================] - 6s 11ms/step - loss: 0.0882 - accuracy: 0.9734 - val_loss: 0.0620 - val_accuracy: 0.9825\n",
      "Epoch 4/100\n",
      "590/590 [==============================] - 7s 11ms/step - loss: 0.0759 - accuracy: 0.9770 - val_loss: 0.0466 - val_accuracy: 0.9849\n",
      "Epoch 5/100\n",
      "590/590 [==============================] - 6s 11ms/step - loss: 0.0653 - accuracy: 0.9795 - val_loss: 0.0388 - val_accuracy: 0.9894\n",
      "Epoch 6/100\n",
      "590/590 [==============================] - 7s 11ms/step - loss: 0.0573 - accuracy: 0.9826 - val_loss: 0.0411 - val_accuracy: 0.9865\n",
      "Epoch 7/100\n",
      "590/590 [==============================] - 7s 11ms/step - loss: 0.0537 - accuracy: 0.9828 - val_loss: 0.0376 - val_accuracy: 0.9894\n",
      "Epoch 8/100\n",
      "590/590 [==============================] - 7s 11ms/step - loss: 0.0491 - accuracy: 0.9855 - val_loss: 0.0404 - val_accuracy: 0.9875\n",
      "Epoch 9/100\n",
      "590/590 [==============================] - 7s 11ms/step - loss: 0.0466 - accuracy: 0.9856 - val_loss: 0.0310 - val_accuracy: 0.9906\n",
      "Epoch 10/100\n",
      "590/590 [==============================] - 7s 11ms/step - loss: 0.0455 - accuracy: 0.9863 - val_loss: 0.0356 - val_accuracy: 0.9887\n",
      "Epoch 11/100\n",
      "590/590 [==============================] - 7s 11ms/step - loss: 0.0440 - accuracy: 0.9859 - val_loss: 0.0281 - val_accuracy: 0.9901\n",
      "Epoch 12/100\n",
      "590/590 [==============================] - 7s 11ms/step - loss: 0.0402 - accuracy: 0.9877 - val_loss: 0.0317 - val_accuracy: 0.9909\n",
      "Epoch 13/100\n",
      "590/590 [==============================] - 7s 11ms/step - loss: 0.0439 - accuracy: 0.9863 - val_loss: 0.0350 - val_accuracy: 0.9894\n",
      "Epoch 14/100\n",
      "590/590 [==============================] - 7s 11ms/step - loss: 0.0397 - accuracy: 0.9876 - val_loss: 0.0298 - val_accuracy: 0.9904\n",
      "Epoch 15/100\n",
      "590/590 [==============================] - 7s 11ms/step - loss: 0.0372 - accuracy: 0.9889 - val_loss: 0.0330 - val_accuracy: 0.9899\n",
      "Epoch 16/100\n",
      "590/590 [==============================] - 7s 11ms/step - loss: 0.0366 - accuracy: 0.9890 - val_loss: 0.0287 - val_accuracy: 0.9911\n",
      "Epoch 17/100\n",
      "590/590 [==============================] - 7s 11ms/step - loss: 0.0368 - accuracy: 0.9899 - val_loss: 0.0335 - val_accuracy: 0.9899\n",
      "Epoch 18/100\n",
      "590/590 [==============================] - 7s 11ms/step - loss: 0.0341 - accuracy: 0.9889 - val_loss: 0.0301 - val_accuracy: 0.9923\n",
      "Epoch 19/100\n",
      "590/590 [==============================] - 7s 11ms/step - loss: 0.0345 - accuracy: 0.9892 - val_loss: 0.0288 - val_accuracy: 0.9892\n",
      "Epoch 20/100\n",
      "590/590 [==============================] - 7s 11ms/step - loss: 0.0348 - accuracy: 0.9895 - val_loss: 0.0188 - val_accuracy: 0.9940\n",
      "Epoch 21/100\n",
      "590/590 [==============================] - 7s 11ms/step - loss: 0.0334 - accuracy: 0.9896 - val_loss: 0.0280 - val_accuracy: 0.9901\n",
      "Epoch 22/100\n",
      "590/590 [==============================] - 7s 11ms/step - loss: 0.0317 - accuracy: 0.9903 - val_loss: 0.0291 - val_accuracy: 0.9901\n",
      "Epoch 23/100\n",
      "590/590 [==============================] - 7s 11ms/step - loss: 0.0334 - accuracy: 0.9900 - val_loss: 0.0229 - val_accuracy: 0.9923\n",
      "Epoch 24/100\n",
      "590/590 [==============================] - 7s 11ms/step - loss: 0.0296 - accuracy: 0.9912 - val_loss: 0.0214 - val_accuracy: 0.9928\n",
      "Epoch 25/100\n",
      "590/590 [==============================] - 7s 11ms/step - loss: 0.0303 - accuracy: 0.9904 - val_loss: 0.0260 - val_accuracy: 0.9918\n",
      "Epoch 26/100\n",
      "590/590 [==============================] - 7s 11ms/step - loss: 0.0302 - accuracy: 0.9908 - val_loss: 0.0234 - val_accuracy: 0.9916\n",
      "Epoch 27/100\n",
      "590/590 [==============================] - 7s 11ms/step - loss: 0.0296 - accuracy: 0.9911 - val_loss: 0.0296 - val_accuracy: 0.9923\n",
      "Epoch 28/100\n",
      "590/590 [==============================] - 7s 11ms/step - loss: 0.0270 - accuracy: 0.9914 - val_loss: 0.0345 - val_accuracy: 0.9901\n",
      "Epoch 29/100\n",
      "590/590 [==============================] - 7s 11ms/step - loss: 0.0295 - accuracy: 0.9914 - val_loss: 0.0291 - val_accuracy: 0.9925\n",
      "Epoch 30/100\n",
      "590/590 [==============================] - 7s 11ms/step - loss: 0.0274 - accuracy: 0.9914 - val_loss: 0.0336 - val_accuracy: 0.9906\n",
      "Epoch 31/100\n",
      "590/590 [==============================] - 7s 11ms/step - loss: 0.0272 - accuracy: 0.9921 - val_loss: 0.0328 - val_accuracy: 0.9906\n",
      "Epoch 32/100\n",
      "590/590 [==============================] - 7s 11ms/step - loss: 0.0268 - accuracy: 0.9920 - val_loss: 0.0236 - val_accuracy: 0.9916\n",
      "Epoch 33/100\n",
      "590/590 [==============================] - 7s 11ms/step - loss: 0.0278 - accuracy: 0.9915 - val_loss: 0.0277 - val_accuracy: 0.9889\n",
      "Epoch 34/100\n",
      "590/590 [==============================] - 7s 11ms/step - loss: 0.0278 - accuracy: 0.9920 - val_loss: 0.0223 - val_accuracy: 0.9930\n",
      "Epoch 35/100\n",
      "590/590 [==============================] - 7s 11ms/step - loss: 0.0257 - accuracy: 0.9925 - val_loss: 0.0243 - val_accuracy: 0.9930\n",
      "Epoch 36/100\n",
      "590/590 [==============================] - 7s 11ms/step - loss: 0.0272 - accuracy: 0.9922 - val_loss: 0.0277 - val_accuracy: 0.9923\n",
      "Epoch 37/100\n",
      "590/590 [==============================] - 7s 11ms/step - loss: 0.0252 - accuracy: 0.9925 - val_loss: 0.0230 - val_accuracy: 0.9930\n",
      "Epoch 38/100\n",
      "590/590 [==============================] - 7s 11ms/step - loss: 0.0265 - accuracy: 0.9920 - val_loss: 0.0224 - val_accuracy: 0.9928\n",
      "Epoch 39/100\n",
      "590/590 [==============================] - 7s 11ms/step - loss: 0.0254 - accuracy: 0.9922 - val_loss: 0.0292 - val_accuracy: 0.9906\n",
      "Epoch 40/100\n",
      "590/590 [==============================] - 6s 11ms/step - loss: 0.0239 - accuracy: 0.9926 - val_loss: 0.0267 - val_accuracy: 0.9913\n",
      "Epoch 41/100\n",
      "590/590 [==============================] - 7s 11ms/step - loss: 0.0235 - accuracy: 0.9932 - val_loss: 0.0186 - val_accuracy: 0.9940\n",
      "Epoch 42/100\n",
      "590/590 [==============================] - 7s 11ms/step - loss: 0.0254 - accuracy: 0.9926 - val_loss: 0.0249 - val_accuracy: 0.9918\n",
      "Epoch 43/100\n",
      "590/590 [==============================] - 7s 11ms/step - loss: 0.0230 - accuracy: 0.9930 - val_loss: 0.0235 - val_accuracy: 0.9930\n",
      "Epoch 44/100\n",
      "590/590 [==============================] - 7s 11ms/step - loss: 0.0214 - accuracy: 0.9935 - val_loss: 0.0282 - val_accuracy: 0.9918\n",
      "Epoch 45/100\n",
      "590/590 [==============================] - 7s 11ms/step - loss: 0.0253 - accuracy: 0.9927 - val_loss: 0.0258 - val_accuracy: 0.9918\n",
      "Epoch 46/100\n",
      "590/590 [==============================] - 7s 11ms/step - loss: 0.0237 - accuracy: 0.9928 - val_loss: 0.0223 - val_accuracy: 0.9933\n",
      "Epoch 47/100\n",
      "590/590 [==============================] - 7s 11ms/step - loss: 0.0248 - accuracy: 0.9925 - val_loss: 0.0244 - val_accuracy: 0.9923\n",
      "Epoch 48/100\n",
      "590/590 [==============================] - 7s 11ms/step - loss: 0.0261 - accuracy: 0.9925 - val_loss: 0.0253 - val_accuracy: 0.9928\n",
      "Epoch 49/100\n",
      "590/590 [==============================] - 7s 11ms/step - loss: 0.0243 - accuracy: 0.9927 - val_loss: 0.0280 - val_accuracy: 0.9918\n",
      "Epoch 50/100\n",
      "590/590 [==============================] - 7s 11ms/step - loss: 0.0227 - accuracy: 0.9934 - val_loss: 0.0243 - val_accuracy: 0.9923\n",
      "Epoch 51/100\n",
      "590/590 [==============================] - 7s 11ms/step - loss: 0.0238 - accuracy: 0.9930 - val_loss: 0.0223 - val_accuracy: 0.9921\n",
      "Epoch 52/100\n",
      "590/590 [==============================] - 7s 11ms/step - loss: 0.0215 - accuracy: 0.9933 - val_loss: 0.0274 - val_accuracy: 0.9921\n",
      "Epoch 53/100\n",
      "590/590 [==============================] - 7s 11ms/step - loss: 0.0222 - accuracy: 0.9937 - val_loss: 0.0307 - val_accuracy: 0.9909\n",
      "Epoch 54/100\n",
      "590/590 [==============================] - 7s 11ms/step - loss: 0.0222 - accuracy: 0.9936 - val_loss: 0.0252 - val_accuracy: 0.9930\n",
      "Epoch 55/100\n",
      "590/590 [==============================] - 7s 11ms/step - loss: 0.0234 - accuracy: 0.9931 - val_loss: 0.0184 - val_accuracy: 0.9935\n"
     ]
    },
    {
     "name": "stdout",
     "output_type": "stream",
     "text": [
      "Epoch 56/100\n",
      "590/590 [==============================] - 7s 11ms/step - loss: 0.0241 - accuracy: 0.9930 - val_loss: 0.0205 - val_accuracy: 0.9923\n",
      "Epoch 57/100\n",
      "590/590 [==============================] - 7s 11ms/step - loss: 0.0238 - accuracy: 0.9930 - val_loss: 0.0258 - val_accuracy: 0.9930\n",
      "Epoch 58/100\n",
      "590/590 [==============================] - 7s 11ms/step - loss: 0.0182 - accuracy: 0.9942 - val_loss: 0.0305 - val_accuracy: 0.9909\n",
      "Epoch 59/100\n",
      "590/590 [==============================] - 7s 11ms/step - loss: 0.0206 - accuracy: 0.9941 - val_loss: 0.0242 - val_accuracy: 0.9928\n",
      "Epoch 60/100\n",
      "590/590 [==============================] - 7s 11ms/step - loss: 0.0227 - accuracy: 0.9935 - val_loss: 0.0248 - val_accuracy: 0.9923\n",
      "Epoch 61/100\n",
      "590/590 [==============================] - 7s 11ms/step - loss: 0.0221 - accuracy: 0.9934 - val_loss: 0.0247 - val_accuracy: 0.9925\n",
      "Epoch 62/100\n",
      "590/590 [==============================] - 7s 11ms/step - loss: 0.0201 - accuracy: 0.9942 - val_loss: 0.0197 - val_accuracy: 0.9940\n",
      "Epoch 63/100\n",
      "590/590 [==============================] - 7s 11ms/step - loss: 0.0200 - accuracy: 0.9940 - val_loss: 0.0225 - val_accuracy: 0.9928\n",
      "Epoch 64/100\n",
      "590/590 [==============================] - 7s 11ms/step - loss: 0.0222 - accuracy: 0.9939 - val_loss: 0.0249 - val_accuracy: 0.9925\n",
      "Epoch 65/100\n",
      "590/590 [==============================] - 7s 11ms/step - loss: 0.0225 - accuracy: 0.9933 - val_loss: 0.0220 - val_accuracy: 0.9940\n",
      "Epoch 66/100\n",
      "590/590 [==============================] - 7s 11ms/step - loss: 0.0201 - accuracy: 0.9940 - val_loss: 0.0252 - val_accuracy: 0.9923\n",
      "Epoch 67/100\n",
      "590/590 [==============================] - 6s 11ms/step - loss: 0.0196 - accuracy: 0.9946 - val_loss: 0.0217 - val_accuracy: 0.9942\n",
      "Epoch 68/100\n",
      "590/590 [==============================] - 7s 11ms/step - loss: 0.0195 - accuracy: 0.9948 - val_loss: 0.0191 - val_accuracy: 0.9942\n",
      "Epoch 69/100\n",
      "590/590 [==============================] - 6s 11ms/step - loss: 0.0206 - accuracy: 0.9944 - val_loss: 0.0224 - val_accuracy: 0.9937\n",
      "Epoch 70/100\n",
      "590/590 [==============================] - 7s 11ms/step - loss: 0.0235 - accuracy: 0.9932 - val_loss: 0.0310 - val_accuracy: 0.9921\n",
      "Epoch 71/100\n",
      "590/590 [==============================] - 7s 11ms/step - loss: 0.0198 - accuracy: 0.9942 - val_loss: 0.0187 - val_accuracy: 0.9945\n",
      "Epoch 72/100\n",
      "590/590 [==============================] - 7s 11ms/step - loss: 0.0214 - accuracy: 0.9940 - val_loss: 0.0331 - val_accuracy: 0.9916\n",
      "Epoch 73/100\n",
      "590/590 [==============================] - 7s 11ms/step - loss: 0.0203 - accuracy: 0.9941 - val_loss: 0.0191 - val_accuracy: 0.9935\n",
      "Epoch 74/100\n",
      "590/590 [==============================] - 7s 11ms/step - loss: 0.0197 - accuracy: 0.9944 - val_loss: 0.0193 - val_accuracy: 0.9945\n",
      "Epoch 75/100\n",
      "590/590 [==============================] - 7s 11ms/step - loss: 0.0192 - accuracy: 0.9944 - val_loss: 0.0175 - val_accuracy: 0.9952\n",
      "Epoch 76/100\n",
      "590/590 [==============================] - 7s 11ms/step - loss: 0.0168 - accuracy: 0.9951 - val_loss: 0.0227 - val_accuracy: 0.9935\n",
      "Epoch 77/100\n",
      "590/590 [==============================] - 7s 11ms/step - loss: 0.0205 - accuracy: 0.9940 - val_loss: 0.0255 - val_accuracy: 0.9923\n",
      "Epoch 78/100\n",
      "590/590 [==============================] - 7s 11ms/step - loss: 0.0210 - accuracy: 0.9940 - val_loss: 0.0235 - val_accuracy: 0.9937\n",
      "Epoch 79/100\n",
      "590/590 [==============================] - 7s 11ms/step - loss: 0.0215 - accuracy: 0.9938 - val_loss: 0.0290 - val_accuracy: 0.9925\n",
      "Epoch 80/100\n",
      "590/590 [==============================] - 7s 11ms/step - loss: 0.0183 - accuracy: 0.9945 - val_loss: 0.0235 - val_accuracy: 0.9940\n",
      "Epoch 81/100\n",
      "590/590 [==============================] - 7s 12ms/step - loss: 0.0207 - accuracy: 0.9940 - val_loss: 0.0247 - val_accuracy: 0.9925\n",
      "Epoch 82/100\n",
      "590/590 [==============================] - 7s 12ms/step - loss: 0.0211 - accuracy: 0.9938 - val_loss: 0.0215 - val_accuracy: 0.9937\n",
      "Epoch 83/100\n",
      "590/590 [==============================] - 7s 12ms/step - loss: 0.0210 - accuracy: 0.9942 - val_loss: 0.0314 - val_accuracy: 0.9925\n",
      "Epoch 84/100\n",
      "590/590 [==============================] - 7s 11ms/step - loss: 0.0191 - accuracy: 0.9948 - val_loss: 0.0251 - val_accuracy: 0.9930\n",
      "Epoch 85/100\n",
      "590/590 [==============================] - 7s 11ms/step - loss: 0.0174 - accuracy: 0.9943 - val_loss: 0.0192 - val_accuracy: 0.9935\n",
      "Epoch 86/100\n",
      "590/590 [==============================] - 7s 11ms/step - loss: 0.0196 - accuracy: 0.9942 - val_loss: 0.0271 - val_accuracy: 0.9923\n",
      "Epoch 87/100\n",
      "590/590 [==============================] - 7s 11ms/step - loss: 0.0181 - accuracy: 0.9947 - val_loss: 0.0283 - val_accuracy: 0.9930\n",
      "Epoch 88/100\n",
      "590/590 [==============================] - 7s 11ms/step - loss: 0.0182 - accuracy: 0.9948 - val_loss: 0.0212 - val_accuracy: 0.9937\n",
      "Epoch 89/100\n",
      "590/590 [==============================] - 7s 11ms/step - loss: 0.0169 - accuracy: 0.9943 - val_loss: 0.0247 - val_accuracy: 0.9940\n",
      "Epoch 90/100\n",
      "590/590 [==============================] - 7s 11ms/step - loss: 0.0205 - accuracy: 0.9945 - val_loss: 0.0199 - val_accuracy: 0.9933\n",
      "Epoch 91/100\n",
      "590/590 [==============================] - 7s 11ms/step - loss: 0.0195 - accuracy: 0.9943 - val_loss: 0.0250 - val_accuracy: 0.9925\n",
      "Epoch 92/100\n",
      "590/590 [==============================] - 6s 11ms/step - loss: 0.0175 - accuracy: 0.9948 - val_loss: 0.0214 - val_accuracy: 0.9928\n",
      "Epoch 93/100\n",
      "590/590 [==============================] - 6s 11ms/step - loss: 0.0202 - accuracy: 0.9945 - val_loss: 0.0266 - val_accuracy: 0.9928\n",
      "Epoch 94/100\n",
      "590/590 [==============================] - 6s 11ms/step - loss: 0.0208 - accuracy: 0.9942 - val_loss: 0.0268 - val_accuracy: 0.9937\n",
      "Epoch 95/100\n",
      "590/590 [==============================] - 7s 11ms/step - loss: 0.0175 - accuracy: 0.9950 - val_loss: 0.0229 - val_accuracy: 0.9930\n",
      "Epoch 96/100\n",
      "590/590 [==============================] - 6s 11ms/step - loss: 0.0169 - accuracy: 0.9954 - val_loss: 0.0269 - val_accuracy: 0.9930\n",
      "Epoch 97/100\n",
      "590/590 [==============================] - 7s 11ms/step - loss: 0.0190 - accuracy: 0.9948 - val_loss: 0.0192 - val_accuracy: 0.9942\n",
      "Epoch 98/100\n",
      "590/590 [==============================] - 6s 11ms/step - loss: 0.0163 - accuracy: 0.9950 - val_loss: 0.0197 - val_accuracy: 0.9940\n",
      "Epoch 99/100\n",
      "590/590 [==============================] - 7s 11ms/step - loss: 0.0167 - accuracy: 0.9953 - val_loss: 0.0265 - val_accuracy: 0.9923\n",
      "Epoch 100/100\n",
      "590/590 [==============================] - 6s 11ms/step - loss: 0.0157 - accuracy: 0.9956 - val_loss: 0.0192 - val_accuracy: 0.9942\n"
     ]
    }
   ],
   "source": [
    "history = model.fit_generator(generator = batches,\n",
    "                              steps_per_epoch = np.floor(batches.n / BATCH_SIZE),\n",
    "                              epochs = EPOCHS,\n",
    "                              validation_data = val_batches,\n",
    "                              validation_steps = np.floor(val_batches.n / BATCH_SIZE))"
   ]
  },
  {
   "cell_type": "code",
   "execution_count": 20,
   "metadata": {},
   "outputs": [
    {
     "data": {
      "text/plain": [
       "dict_keys(['loss', 'accuracy', 'val_loss', 'val_accuracy'])"
      ]
     },
     "execution_count": 20,
     "metadata": {},
     "output_type": "execute_result"
    }
   ],
   "source": [
    "history_dict = history.history\n",
    "history_dict.keys()"
   ]
  },
  {
   "cell_type": "code",
   "execution_count": 21,
   "metadata": {},
   "outputs": [
    {
     "data": {
      "image/png": "[encoded data removed]",
      "text/plain": [
       "<Figure size 432x288 with 1 Axes>"
      ]
     },
     "metadata": {
      "needs_background": "light"
     },
     "output_type": "display_data"
    }
   ],
   "source": [
    "import matplotlib.pyplot as plt\n",
    "%matplotlib inline\n",
    "loss_values = history_dict['loss']\n",
    "epochs = range(1, len(loss_values) + 1)\n",
    "\n",
    "# \"bo\" is for \"blue dot\"\n",
    "plt.plot(epochs, loss_values, 'bo')\n",
    "plt.xlabel('Epochs')\n",
    "plt.ylabel('Loss')\n",
    "\n",
    "plt.show()"
   ]
  },
  {
   "cell_type": "code",
   "execution_count": 22,
   "metadata": {},
   "outputs": [
    {
     "name": "stdout",
     "output_type": "stream",
     "text": [
      "WARNING:tensorflow:From <ipython-input-22-02bb92542b01>:1: Sequential.predict_classes (from tensorflow.python.keras.engine.sequential) is deprecated and will be removed after 2021-01-01.\n",
      "Instructions for updating:\n",
      "Please use instead:* `np.argmax(model.predict(x), axis=-1)`,   if your model does multi-class classification   (e.g. if it uses a `softmax` last-layer activation).* `(model.predict(x) > 0.5).astype(\"int32\")`,   if your model does binary classification   (e.g. if it uses a `sigmoid` last-layer activation).\n"
     ]
    }
   ],
   "source": [
    "predictions = model.predict_classes(X_test)\n",
    "\n",
    "submissions = pd.DataFrame({\"ImageId\": list(range(1, len(predictions) + 1)),\n",
    "                            \"Label\": predictions})\n",
    "\n",
    "submissions.to_csv(\"prediction.csv\", index = False, header = True)"
   ]
  },
  {
   "cell_type": "code",
   "execution_count": null,
   "metadata": {},
   "outputs": [],
   "source": []
  }
 ],
 "metadata": {
  "kernelspec": {
   "display_name": "Python 3",
   "language": "python",
   "name": "python3"
  },
  "language_info": {
   "codemirror_mode": {
    "name": "ipython",
    "version": 3
   },
   "file_extension": ".py",
   "mimetype": "text/x-python",
   "name": "python",
   "nbconvert_exporter": "python",
   "pygments_lexer": "ipython3",
   "version": "3.8.5"
  }
 },
 "nbformat": 4,
 "nbformat_minor": 4
}
